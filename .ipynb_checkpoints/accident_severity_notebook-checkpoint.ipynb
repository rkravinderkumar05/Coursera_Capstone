{
 "cells": [
  {
   "cell_type": "markdown",
   "metadata": {},
   "source": [
    "## This jupyter notebook will be mainly used for Coursera Capstone project\n",
    "### We will use supervised algorithm to predict the severity of an accident"
   ]
  },
  {
   "cell_type": "code",
   "execution_count": 268,
   "metadata": {},
   "outputs": [],
   "source": [
    "#importing libraries\n",
    "import pandas as pd\n",
    "import numpy as np\n",
    "import matplotlib.pyplot as plt\n",
    "import datetime as dt\n",
    "from sklearn import preprocessing\n",
    "from sklearn.model_selection import train_test_split, RandomizedSearchCV, GridSearchCV\n",
    "import seaborn as sns\n",
    "from sklearn.tree import DecisionTreeClassifier # Import Decision Tree Classifier\n",
    "from sklearn import metrics #Import scikit-learn metrics module for accuracy calculation\n",
    "from sklearn.neighbors import KNeighborsClassifier\n",
    "from xgboost import XGBClassifier\n",
    "from sklearn.ensemble import RandomForestClassifier\n",
    "from sklearn.linear_model import LogisticRegression\n",
    "from sklearn.svm import SVC"
   ]
  },
  {
   "cell_type": "code",
   "execution_count": 143,
   "metadata": {},
   "outputs": [
    {
     "name": "stdout",
     "output_type": "stream",
     "text": [
      "Hello Capstone Project Course!\n"
     ]
    }
   ],
   "source": [
    "print(\"Hello Capstone Project Course!\")"
   ]
  },
  {
   "cell_type": "code",
   "execution_count": 144,
   "metadata": {},
   "outputs": [],
   "source": [
    "landingDir = \"E:/coursera/capstoneDS/github/Coursera_Capstone/\""
   ]
  },
  {
   "cell_type": "code",
   "execution_count": 145,
   "metadata": {},
   "outputs": [
    {
     "name": "stderr",
     "output_type": "stream",
     "text": [
      "e:\\pycharmprojects\\myprojects\\venv\\lib\\site-packages\\IPython\\core\\interactiveshell.py:3057: DtypeWarning: Columns (33) have mixed types. Specify dtype option on import or set low_memory=False.\n",
      "  interactivity=interactivity, compiler=compiler, result=result)\n"
     ]
    }
   ],
   "source": [
    "inputDF = pd.read_csv(landingDir+\"/datasets/Data-Collisions.csv\")"
   ]
  },
  {
   "cell_type": "code",
   "execution_count": 146,
   "metadata": {},
   "outputs": [],
   "source": [
    "#finding if any column contains nan\n",
    "nanColumns = inputDF.columns[inputDF.isna().any()].tolist()"
   ]
  },
  {
   "cell_type": "code",
   "execution_count": 147,
   "metadata": {},
   "outputs": [],
   "source": [
    "#dropping some columns like codes, identifiers etc\n",
    "inputDF.drop(columns=['X','Y','OBJECTID','INCKEY','COLDETKEY','REPORTNO','STATUS','INTKEY','EXCEPTRSNCODE','EXCEPTRSNDESC'\n",
    "                      ,'SEVERITYCODE.1','SEVERITYDESC','INCDATE','SDOT_COLDESC','SDOTCOLNUM','ST_COLDESC','SEGLANEKEY',\n",
    "                      'CROSSWALKKEY'],inplace=True)"
   ]
  },
  {
   "cell_type": "code",
   "execution_count": 148,
   "metadata": {},
   "outputs": [
    {
     "data": {
      "text/plain": [
       "SEVERITYCODE           0\n",
       "ADDRTYPE            1926\n",
       "LOCATION            2677\n",
       "COLLISIONTYPE       4904\n",
       "PERSONCOUNT            0\n",
       "PEDCOUNT               0\n",
       "PEDCYLCOUNT            0\n",
       "VEHCOUNT               0\n",
       "INCDTTM                0\n",
       "JUNCTIONTYPE        6329\n",
       "SDOT_COLCODE           0\n",
       "INATTENTIONIND    164868\n",
       "UNDERINFL           4884\n",
       "WEATHER             5081\n",
       "ROADCOND            5012\n",
       "LIGHTCOND           5170\n",
       "PEDROWNOTGRNT     190006\n",
       "SPEEDING          185340\n",
       "ST_COLCODE            18\n",
       "HITPARKEDCAR           0\n",
       "dtype: int64"
      ]
     },
     "execution_count": 148,
     "metadata": {},
     "output_type": "execute_result"
    }
   ],
   "source": [
    "#finding count of null values for columns\n",
    "inputDF.isna().sum()"
   ]
  },
  {
   "cell_type": "code",
   "execution_count": 149,
   "metadata": {},
   "outputs": [
    {
     "data": {
      "text/plain": [
       "SEVERITYCODE       int64\n",
       "ADDRTYPE          object\n",
       "LOCATION          object\n",
       "COLLISIONTYPE     object\n",
       "PERSONCOUNT        int64\n",
       "PEDCOUNT           int64\n",
       "PEDCYLCOUNT        int64\n",
       "VEHCOUNT           int64\n",
       "INCDTTM           object\n",
       "JUNCTIONTYPE      object\n",
       "SDOT_COLCODE       int64\n",
       "INATTENTIONIND    object\n",
       "UNDERINFL         object\n",
       "WEATHER           object\n",
       "ROADCOND          object\n",
       "LIGHTCOND         object\n",
       "PEDROWNOTGRNT     object\n",
       "SPEEDING          object\n",
       "ST_COLCODE        object\n",
       "HITPARKEDCAR      object\n",
       "dtype: object"
      ]
     },
     "execution_count": 149,
     "metadata": {},
     "output_type": "execute_result"
    }
   ],
   "source": [
    "inputDF.dtypes"
   ]
  },
  {
   "cell_type": "code",
   "execution_count": 150,
   "metadata": {},
   "outputs": [
    {
     "name": "stderr",
     "output_type": "stream",
     "text": [
      "e:\\pycharmprojects\\myprojects\\venv\\lib\\site-packages\\seaborn\\_decorators.py:43: FutureWarning: Pass the following variable as a keyword arg: x. From version 0.12, the only valid positional argument will be `data`, and passing other arguments without an explicit keyword will result in an error or misinterpretation.\n",
      "  FutureWarning\n"
     ]
    },
    {
     "data": {
      "text/plain": [
       "<matplotlib.axes._subplots.AxesSubplot at 0x1558c82c8d0>"
      ]
     },
     "execution_count": 150,
     "metadata": {},
     "output_type": "execute_result"
    },
    {
     "data": {
      "image/png": "[encoded data removed]",
      "text/plain": [
       "<Figure size 432x288 with 1 Axes>"
      ]
     },
     "metadata": {
      "needs_background": "light"
     },
     "output_type": "display_data"
    }
   ],
   "source": [
    "sns.countplot(inputDF['SEVERITYCODE'],label=\"Count\")"
   ]
  },
  {
   "cell_type": "code",
   "execution_count": 151,
   "metadata": {},
   "outputs": [],
   "source": [
    "#its really difficult to replace the nan with some values. Let's try dropping them as it is less compared to the total rows\n",
    "inputDF1 = inputDF.dropna(subset = [\"ADDRTYPE\",\"LOCATION\",\"COLLISIONTYPE\",\"JUNCTIONTYPE\",\"WEATHER\",\"ROADCOND\",\n",
    "                                   \"LIGHTCOND\",\"ST_COLCODE\"], inplace=True)"
   ]
  },
  {
   "cell_type": "code",
   "execution_count": 153,
   "metadata": {},
   "outputs": [],
   "source": [
    "#inattentionid is \"y\" or blank, let's replace y with 1 and blank with 0\n",
    "inputDF[\"INATTENTIONIND\"]=inputDF[\"INATTENTIONIND\"].apply(lambda x : 1 if x==\"Y\" else 0)\n",
    "inputDF[\"UNDERINFL\"]=inputDF[\"UNDERINFL\"].apply(lambda x : 1 if x =='Y' else (0 if x == 'N' else int(x)))\n",
    "inputDF[\"PEDROWNOTGRNT\"]=inputDF[\"PEDROWNOTGRNT\"].apply(lambda x : 1 if x==\"Y\" else 0)\n",
    "inputDF[\"SPEEDING\"]=inputDF[\"SPEEDING\"].apply(lambda x : 1 if x==\"Y\" else 0)\n",
    "inputDF[\"HITPARKEDCAR\"]=inputDF[\"HITPARKEDCAR\"].apply(lambda x : 1 if x==\"Y\" else 0)\n",
    "inputDF[\"SEVERITYCODE\"]=inputDF[\"SEVERITYCODE\"].apply(lambda x : 0 if x==1 else 1)\n",
    "inputDF[\"ADDRTYPE\"]=inputDF[\"ADDRTYPE\"].apply(lambda x : 0 if x=='Block' else 1)\n"
   ]
  },
  {
   "cell_type": "code",
   "execution_count": 154,
   "metadata": {},
   "outputs": [],
   "source": [
    "#function to get time and day type from datetimestamp\n",
    "def getTimeFromDate(inputDate):\n",
    "    hrs = inputDate.hour\n",
    "    if hrs<11 and hrs >=6:\n",
    "        #timeType=0\n",
    "        timeType = \"morning\"\n",
    "    elif hrs >=11 and hrs<16:\n",
    "        #timeType=1\n",
    "        timeType = \"afternoon\"\n",
    "    elif hrs >=16 and hrs < 18:\n",
    "        #timeType=2\n",
    "        timeType = \"evening\"\n",
    "    elif hrs >=18 and hrs < 21 :\n",
    "        #timeType=3\n",
    "        timeType = \"night\"\n",
    "    elif hrs >=21 and hrs <=23:\n",
    "        #timeType=4\n",
    "        timeType =\"latenight\"\n",
    "    else:\n",
    "        #timeType=5\n",
    "        timeType = \"nonbusy\"\n",
    "    return timeType     \n",
    "\n",
    "def isWeekend(inputDate):\n",
    "    return 1 if inputDate.weekday()>=5 else 0"
   ]
  },
  {
   "cell_type": "code",
   "execution_count": 155,
   "metadata": {},
   "outputs": [],
   "source": [
    "inputDF[\"INCDTTM\"]=pd.to_datetime(inputDF[\"INCDTTM\"])"
   ]
  },
  {
   "cell_type": "code",
   "execution_count": 156,
   "metadata": {},
   "outputs": [],
   "source": [
    "inputDF[\"timeType\"]=inputDF[\"INCDTTM\"].apply(lambda x: getTimeFromDate(x))"
   ]
  },
  {
   "cell_type": "code",
   "execution_count": 157,
   "metadata": {},
   "outputs": [],
   "source": [
    "inputDF[\"day\"]=inputDF[\"INCDTTM\"].apply(lambda x: x.weekday())"
   ]
  },
  {
   "cell_type": "code",
   "execution_count": 158,
   "metadata": {},
   "outputs": [
    {
     "data": {
      "image/png": "[encoded data removed]",
      "text/plain": [
       "<Figure size 720x720 with 4 Axes>"
      ]
     },
     "metadata": {
      "needs_background": "light"
     },
     "output_type": "display_data"
    }
   ],
   "source": [
    "#VISUALISATIONS\n",
    "#GET NUMBERICAL variables\n",
    "numericDF = inputDF[[\"PERSONCOUNT\",\"PEDCOUNT\",\"PEDCYLCOUNT\",\"VEHCOUNT\"]]\n",
    "numericDF.plot(kind='box', subplots=True, layout=(2,2), sharex=False, sharey=False, figsize=(10,10), \n",
    "                                        title='Box Plot for each input variable')\n",
    "plt.savefig('fruits_box')\n",
    "plt.show()"
   ]
  },
  {
   "cell_type": "code",
   "execution_count": 159,
   "metadata": {},
   "outputs": [
    {
     "data": {
      "image/png": "[encoded data removed]",
      "text/plain": [
       "<Figure size 648x648 with 4 Axes>"
      ]
     },
     "metadata": {
      "needs_background": "light"
     },
     "output_type": "display_data"
    }
   ],
   "source": [
    "#the count variables are kind of discrete ratter than continous\n",
    "#import pylab as pl\n",
    "numericDF.hist(bins=30, figsize=(9,9))\n",
    "#pl.suptitle(\"Histogram for each numeric input variable\")\n",
    "plt.show()"
   ]
  },
  {
   "cell_type": "code",
   "execution_count": 160,
   "metadata": {},
   "outputs": [
    {
     "data": {
      "text/plain": [
       "0    125401\n",
       "1     51848\n",
       "Name: SEVERITYCODE, dtype: int64"
      ]
     },
     "execution_count": 160,
     "metadata": {},
     "output_type": "execute_result"
    }
   ],
   "source": [
    "inputDF[inputDF[\"PEDCYLCOUNT\"]==0][\"SEVERITYCODE\"].value_counts()"
   ]
  },
  {
   "cell_type": "code",
   "execution_count": 161,
   "metadata": {},
   "outputs": [],
   "source": [
    "#we can see that PEDCOUNT AND PEDCYLCOUNT doesn't make any impact on the target variable. Lets drop these 2 variables\n",
    "#inputDF.drop(columns=['PEDCOUNT','PEDCYLCOUNT'],inplace=True)"
   ]
  },
  {
   "cell_type": "code",
   "execution_count": 162,
   "metadata": {},
   "outputs": [
    {
     "data": {
      "text/plain": [
       "2     141508\n",
       "1      24942\n",
       "3      12863\n",
       "4       2404\n",
       "5        526\n",
       "0        195\n",
       "6        144\n",
       "7         45\n",
       "8         15\n",
       "9          9\n",
       "11         6\n",
       "10         2\n",
       "12         1\n",
       "Name: VEHCOUNT, dtype: int64"
      ]
     },
     "execution_count": 162,
     "metadata": {},
     "output_type": "execute_result"
    }
   ],
   "source": [
    "inputDF[\"PERSONCOUNT\"].value_counts()\n",
    "inputDF[\"VEHCOUNT\"].value_counts()\n",
    "#we can categorize these features as low, medium height etc"
   ]
  },
  {
   "cell_type": "code",
   "execution_count": 163,
   "metadata": {},
   "outputs": [
    {
     "data": {
      "text/plain": [
       "array(['SEVERITYCODE', 'ADDRTYPE', 'LOCATION', 'COLLISIONTYPE',\n",
       "       'PERSONCOUNT', 'PEDCOUNT', 'PEDCYLCOUNT', 'VEHCOUNT', 'INCDTTM',\n",
       "       'JUNCTIONTYPE', 'SDOT_COLCODE', 'INATTENTIONIND', 'UNDERINFL',\n",
       "       'WEATHER', 'ROADCOND', 'LIGHTCOND', 'PEDROWNOTGRNT', 'SPEEDING',\n",
       "       'ST_COLCODE', 'HITPARKEDCAR', 'timeType', 'day'], dtype=object)"
      ]
     },
     "execution_count": 163,
     "metadata": {},
     "output_type": "execute_result"
    }
   ],
   "source": [
    "inputDF.columns.values"
   ]
  },
  {
   "cell_type": "code",
   "execution_count": 164,
   "metadata": {},
   "outputs": [
    {
     "data": {
      "text/plain": [
       "SEVERITYCODE      0\n",
       "ADDRTYPE          0\n",
       "LOCATION          0\n",
       "COLLISIONTYPE     0\n",
       "PERSONCOUNT       0\n",
       "PEDCOUNT          0\n",
       "PEDCYLCOUNT       0\n",
       "VEHCOUNT          0\n",
       "INCDTTM           0\n",
       "JUNCTIONTYPE      0\n",
       "SDOT_COLCODE      0\n",
       "INATTENTIONIND    0\n",
       "UNDERINFL         0\n",
       "WEATHER           0\n",
       "ROADCOND          0\n",
       "LIGHTCOND         0\n",
       "PEDROWNOTGRNT     0\n",
       "SPEEDING          0\n",
       "ST_COLCODE        0\n",
       "HITPARKEDCAR      0\n",
       "timeType          0\n",
       "day               0\n",
       "dtype: int64"
      ]
     },
     "execution_count": 164,
     "metadata": {},
     "output_type": "execute_result"
    }
   ],
   "source": [
    "inputDF.isna().sum()"
   ]
  },
  {
   "cell_type": "code",
   "execution_count": 165,
   "metadata": {},
   "outputs": [
    {
     "name": "stderr",
     "output_type": "stream",
     "text": [
      "e:\\pycharmprojects\\myprojects\\venv\\lib\\site-packages\\seaborn\\_decorators.py:43: FutureWarning: Pass the following variable as a keyword arg: x. From version 0.12, the only valid positional argument will be `data`, and passing other arguments without an explicit keyword will result in an error or misinterpretation.\n",
      "  FutureWarning\n"
     ]
    },
    {
     "data": {
      "text/plain": [
       "<matplotlib.axes._subplots.AxesSubplot at 0x155d599dc88>"
      ]
     },
     "execution_count": 165,
     "metadata": {},
     "output_type": "execute_result"
    },
    {
     "data": {
      "image/png": "[encoded data removed]",
      "text/plain": [
       "<Figure size 432x288 with 1 Axes>"
      ]
     },
     "metadata": {
      "needs_background": "light"
     },
     "output_type": "display_data"
    }
   ],
   "source": [
    "sns.countplot(inputDF['SEVERITYCODE'],label=\"Count\")"
   ]
  },
  {
   "cell_type": "markdown",
   "metadata": {},
   "source": [
    "### lets make our dataframe understandable for ml algorithm"
   ]
  },
  {
   "cell_type": "code",
   "execution_count": 171,
   "metadata": {},
   "outputs": [],
   "source": [
    "# label_encoder object knows how to understand word labels. \n",
    "inputDF1 = inputDF.copy()\n",
    "label_encoder = preprocessing.LabelEncoder()\n",
    "# Encode labels in column 'LOCATION'. \n",
    "inputDF1['LOCATION']= label_encoder.fit_transform(inputDF1['LOCATION']) "
   ]
  },
  {
   "cell_type": "code",
   "execution_count": 175,
   "metadata": {},
   "outputs": [],
   "source": [
    "inputDF1['SDOT_COLCODE']= label_encoder.fit_transform(inputDF1['SDOT_COLCODE'])\n",
    "inputDF1['WEATHER']= label_encoder.fit_transform(inputDF1['WEATHER'])\n",
    "inputDF1['ROADCOND']= label_encoder.fit_transform(inputDF1['ROADCOND'])\n",
    "inputDF1['LIGHTCOND']= label_encoder.fit_transform(inputDF1['LIGHTCOND'])\n",
    "inputDF1['COLLISIONTYPE']= label_encoder.fit_transform(inputDF1['COLLISIONTYPE'])\n",
    "inputDF1['JUNCTIONTYPE']= label_encoder.fit_transform(inputDF1['JUNCTIONTYPE'])"
   ]
  },
  {
   "cell_type": "code",
   "execution_count": 176,
   "metadata": {},
   "outputs": [],
   "source": [
    "inputDF1.drop(\"INCDTTM\",inplace=True,axis=1)"
   ]
  },
  {
   "cell_type": "code",
   "execution_count": 190,
   "metadata": {},
   "outputs": [],
   "source": [
    "inputDF1.drop(\"timeType\",inplace=True,axis=1)"
   ]
  },
  {
   "cell_type": "code",
   "execution_count": 178,
   "metadata": {},
   "outputs": [],
   "source": [
    "inputDF1['ST_COLCODE']= inputDF1['ST_COLCODE'].astype(int)"
   ]
  },
  {
   "cell_type": "code",
   "execution_count": 179,
   "metadata": {},
   "outputs": [],
   "source": [
    "inputDF1['ST_COLCODE']= label_encoder.fit_transform(inputDF1['ST_COLCODE'])"
   ]
  },
  {
   "cell_type": "code",
   "execution_count": 180,
   "metadata": {},
   "outputs": [],
   "source": [
    "# bins = np.linspace(inputDF1.day.min(), inputDF1.day.max(), 10)\n",
    "# g = sns.FacetGrid(inputDF1, col=\"SPEEDING\", hue=\"SEVERITYCODE\", palette=\"Set1\", col_wrap=2)\n",
    "# g.map(plt.hist, 'day', bins=bins, ec=\"k\")\n",
    "\n",
    "# g.axes[-1].legend()\n",
    "# plt.show()"
   ]
  },
  {
   "cell_type": "code",
   "execution_count": 181,
   "metadata": {},
   "outputs": [
    {
     "data": {
      "image/png": "[encoded data removed]",
      "text/plain": [
       "<Figure size 432x216 with 2 Axes>"
      ]
     },
     "metadata": {
      "needs_background": "light"
     },
     "output_type": "display_data"
    }
   ],
   "source": [
    "bins = np.linspace(inputDF1.WEATHER.min(), inputDF1.WEATHER.max(), 10)\n",
    "g = sns.FacetGrid(inputDF1, col=\"INATTENTIONIND\", hue=\"SEVERITYCODE\", palette=\"Set1\", col_wrap=2)\n",
    "g.map(plt.hist, 'WEATHER', bins=bins, ec=\"k\")\n",
    "\n",
    "g.axes[-1].legend()\n",
    "plt.show()"
   ]
  },
  {
   "cell_type": "markdown",
   "metadata": {},
   "source": [
    "### we have slightly imbalanced data, few records for severity \"2\", model can be biased"
   ]
  },
  {
   "cell_type": "code",
   "execution_count": 182,
   "metadata": {},
   "outputs": [
    {
     "data": {
      "text/plain": [
       "array(['SEVERITYCODE', 'ADDRTYPE', 'LOCATION', 'COLLISIONTYPE',\n",
       "       'PERSONCOUNT', 'PEDCOUNT', 'PEDCYLCOUNT', 'VEHCOUNT',\n",
       "       'JUNCTIONTYPE', 'SDOT_COLCODE', 'INATTENTIONIND', 'UNDERINFL',\n",
       "       'WEATHER', 'ROADCOND', 'LIGHTCOND', 'PEDROWNOTGRNT', 'SPEEDING',\n",
       "       'ST_COLCODE', 'HITPARKEDCAR', 'timeType', 'day'], dtype=object)"
      ]
     },
     "execution_count": 182,
     "metadata": {},
     "output_type": "execute_result"
    }
   ],
   "source": [
    "inputDF1.columns.values"
   ]
  },
  {
   "cell_type": "code",
   "execution_count": 356,
   "metadata": {},
   "outputs": [],
   "source": [
    "#droping few more columns\n",
    "#inputDF2 = inputDF1.drop([\"LOCATION\",\"SDOT_COLCODE\",\"ST_COLCODE\"],axis=1)\n",
    "inputDF2 = inputDF1.copy()"
   ]
  },
  {
   "cell_type": "code",
   "execution_count": 357,
   "metadata": {},
   "outputs": [
    {
     "data": {
      "text/html": [
       "<div>\n",
       "<style scoped>\n",
       "    .dataframe tbody tr th:only-of-type {\n",
       "        vertical-align: middle;\n",
       "    }\n",
       "\n",
       "    .dataframe tbody tr th {\n",
       "        vertical-align: top;\n",
       "    }\n",
       "\n",
       "    .dataframe thead th {\n",
       "        text-align: right;\n",
       "    }\n",
       "</style>\n",
       "<table border=\"1\" class=\"dataframe\">\n",
       "  <thead>\n",
       "    <tr style=\"text-align: right;\">\n",
       "      <th></th>\n",
       "      <th>SEVERITYCODE</th>\n",
       "      <th>ADDRTYPE</th>\n",
       "      <th>LOCATION</th>\n",
       "      <th>COLLISIONTYPE</th>\n",
       "      <th>PERSONCOUNT</th>\n",
       "      <th>PEDCOUNT</th>\n",
       "      <th>PEDCYLCOUNT</th>\n",
       "      <th>VEHCOUNT</th>\n",
       "      <th>JUNCTIONTYPE</th>\n",
       "      <th>SDOT_COLCODE</th>\n",
       "      <th>INATTENTIONIND</th>\n",
       "      <th>UNDERINFL</th>\n",
       "      <th>WEATHER</th>\n",
       "      <th>ROADCOND</th>\n",
       "      <th>LIGHTCOND</th>\n",
       "      <th>PEDROWNOTGRNT</th>\n",
       "      <th>SPEEDING</th>\n",
       "      <th>ST_COLCODE</th>\n",
       "      <th>HITPARKEDCAR</th>\n",
       "      <th>day</th>\n",
       "    </tr>\n",
       "  </thead>\n",
       "  <tbody>\n",
       "    <tr>\n",
       "      <th>SEVERITYCODE</th>\n",
       "      <td>1.000000</td>\n",
       "      <td>0.192350</td>\n",
       "      <td>-0.037847</td>\n",
       "      <td>-0.127199</td>\n",
       "      <td>0.124381</td>\n",
       "      <td>0.245265</td>\n",
       "      <td>0.214003</td>\n",
       "      <td>-0.081292</td>\n",
       "      <td>-0.200736</td>\n",
       "      <td>0.144818</td>\n",
       "      <td>0.041086</td>\n",
       "      <td>0.040494</td>\n",
       "      <td>-0.090672</td>\n",
       "      <td>-0.037201</td>\n",
       "      <td>-0.042654</td>\n",
       "      <td>0.206745</td>\n",
       "      <td>0.035006</td>\n",
       "      <td>-0.194757</td>\n",
       "      <td>-0.092600</td>\n",
       "      <td>-0.018249</td>\n",
       "    </tr>\n",
       "    <tr>\n",
       "      <th>ADDRTYPE</th>\n",
       "      <td>0.192350</td>\n",
       "      <td>1.000000</td>\n",
       "      <td>-0.279860</td>\n",
       "      <td>-0.482418</td>\n",
       "      <td>0.058764</td>\n",
       "      <td>0.146075</td>\n",
       "      <td>0.083707</td>\n",
       "      <td>-0.093579</td>\n",
       "      <td>-0.922735</td>\n",
       "      <td>-0.118468</td>\n",
       "      <td>-0.083372</td>\n",
       "      <td>-0.047234</td>\n",
       "      <td>-0.071383</td>\n",
       "      <td>-0.019919</td>\n",
       "      <td>-0.035660</td>\n",
       "      <td>0.156509</td>\n",
       "      <td>-0.064510</td>\n",
       "      <td>-0.251722</td>\n",
       "      <td>-0.120168</td>\n",
       "      <td>-0.013543</td>\n",
       "    </tr>\n",
       "    <tr>\n",
       "      <th>LOCATION</th>\n",
       "      <td>-0.037847</td>\n",
       "      <td>-0.279860</td>\n",
       "      <td>1.000000</td>\n",
       "      <td>0.156635</td>\n",
       "      <td>-0.014756</td>\n",
       "      <td>-0.038254</td>\n",
       "      <td>-0.019029</td>\n",
       "      <td>0.010038</td>\n",
       "      <td>0.247337</td>\n",
       "      <td>0.050006</td>\n",
       "      <td>0.028272</td>\n",
       "      <td>0.007242</td>\n",
       "      <td>0.009091</td>\n",
       "      <td>0.003270</td>\n",
       "      <td>0.012574</td>\n",
       "      <td>-0.034324</td>\n",
       "      <td>0.026131</td>\n",
       "      <td>0.057718</td>\n",
       "      <td>0.013618</td>\n",
       "      <td>0.000372</td>\n",
       "    </tr>\n",
       "    <tr>\n",
       "      <th>COLLISIONTYPE</th>\n",
       "      <td>-0.127199</td>\n",
       "      <td>-0.482418</td>\n",
       "      <td>0.156635</td>\n",
       "      <td>1.000000</td>\n",
       "      <td>0.015115</td>\n",
       "      <td>0.093339</td>\n",
       "      <td>-0.213029</td>\n",
       "      <td>0.105135</td>\n",
       "      <td>0.480315</td>\n",
       "      <td>0.059833</td>\n",
       "      <td>0.122220</td>\n",
       "      <td>0.005037</td>\n",
       "      <td>0.022314</td>\n",
       "      <td>-0.004695</td>\n",
       "      <td>0.027448</td>\n",
       "      <td>-0.020849</td>\n",
       "      <td>-0.002655</td>\n",
       "      <td>0.055902</td>\n",
       "      <td>0.033584</td>\n",
       "      <td>-0.017432</td>\n",
       "    </tr>\n",
       "    <tr>\n",
       "      <th>PERSONCOUNT</th>\n",
       "      <td>0.124381</td>\n",
       "      <td>0.058764</td>\n",
       "      <td>-0.014756</td>\n",
       "      <td>0.015115</td>\n",
       "      <td>1.000000</td>\n",
       "      <td>-0.027212</td>\n",
       "      <td>-0.042894</td>\n",
       "      <td>0.399424</td>\n",
       "      <td>-0.070026</td>\n",
       "      <td>-0.192435</td>\n",
       "      <td>0.071432</td>\n",
       "      <td>0.018861</td>\n",
       "      <td>-0.053988</td>\n",
       "      <td>-0.025486</td>\n",
       "      <td>-0.030275</td>\n",
       "      <td>-0.031549</td>\n",
       "      <td>-0.007240</td>\n",
       "      <td>-0.201259</td>\n",
       "      <td>-0.046344</td>\n",
       "      <td>0.058407</td>\n",
       "    </tr>\n",
       "    <tr>\n",
       "      <th>PEDCOUNT</th>\n",
       "      <td>0.245265</td>\n",
       "      <td>0.146075</td>\n",
       "      <td>-0.038254</td>\n",
       "      <td>0.093339</td>\n",
       "      <td>-0.027212</td>\n",
       "      <td>1.000000</td>\n",
       "      <td>-0.018631</td>\n",
       "      <td>-0.317339</td>\n",
       "      <td>-0.132194</td>\n",
       "      <td>0.280287</td>\n",
       "      <td>-0.007442</td>\n",
       "      <td>0.014464</td>\n",
       "      <td>-0.005995</td>\n",
       "      <td>0.009011</td>\n",
       "      <td>-0.036208</td>\n",
       "      <td>0.496292</td>\n",
       "      <td>-0.035019</td>\n",
       "      <td>-0.294233</td>\n",
       "      <td>-0.032719</td>\n",
       "      <td>-0.021440</td>\n",
       "    </tr>\n",
       "    <tr>\n",
       "      <th>PEDCYLCOUNT</th>\n",
       "      <td>0.214003</td>\n",
       "      <td>0.083707</td>\n",
       "      <td>-0.019029</td>\n",
       "      <td>-0.213029</td>\n",
       "      <td>-0.042894</td>\n",
       "      <td>-0.018631</td>\n",
       "      <td>1.000000</td>\n",
       "      <td>-0.307591</td>\n",
       "      <td>-0.088573</td>\n",
       "      <td>0.378268</td>\n",
       "      <td>0.001118</td>\n",
       "      <td>-0.018483</td>\n",
       "      <td>-0.051014</td>\n",
       "      <td>-0.048255</td>\n",
       "      <td>0.017484</td>\n",
       "      <td>0.324506</td>\n",
       "      <td>-0.022345</td>\n",
       "      <td>0.171159</td>\n",
       "      <td>-0.028267</td>\n",
       "      <td>-0.026257</td>\n",
       "    </tr>\n",
       "    <tr>\n",
       "      <th>VEHCOUNT</th>\n",
       "      <td>-0.081292</td>\n",
       "      <td>-0.093579</td>\n",
       "      <td>0.010038</td>\n",
       "      <td>0.105135</td>\n",
       "      <td>0.399424</td>\n",
       "      <td>-0.317339</td>\n",
       "      <td>-0.307591</td>\n",
       "      <td>1.000000</td>\n",
       "      <td>0.089992</td>\n",
       "      <td>-0.514301</td>\n",
       "      <td>0.050647</td>\n",
       "      <td>-0.011041</td>\n",
       "      <td>-0.011522</td>\n",
       "      <td>-0.017510</td>\n",
       "      <td>0.034552</td>\n",
       "      <td>-0.278069</td>\n",
       "      <td>-0.048710</td>\n",
       "      <td>-0.168679</td>\n",
       "      <td>0.071821</td>\n",
       "      <td>0.004148</td>\n",
       "    </tr>\n",
       "    <tr>\n",
       "      <th>JUNCTIONTYPE</th>\n",
       "      <td>-0.200736</td>\n",
       "      <td>-0.922735</td>\n",
       "      <td>0.247337</td>\n",
       "      <td>0.480315</td>\n",
       "      <td>-0.070026</td>\n",
       "      <td>-0.132194</td>\n",
       "      <td>-0.088573</td>\n",
       "      <td>0.089992</td>\n",
       "      <td>1.000000</td>\n",
       "      <td>0.129423</td>\n",
       "      <td>0.070770</td>\n",
       "      <td>0.056105</td>\n",
       "      <td>0.085308</td>\n",
       "      <td>0.027876</td>\n",
       "      <td>0.030841</td>\n",
       "      <td>-0.154162</td>\n",
       "      <td>0.066140</td>\n",
       "      <td>0.277059</td>\n",
       "      <td>0.143814</td>\n",
       "      <td>0.021608</td>\n",
       "    </tr>\n",
       "    <tr>\n",
       "      <th>SDOT_COLCODE</th>\n",
       "      <td>0.144818</td>\n",
       "      <td>-0.118468</td>\n",
       "      <td>0.050006</td>\n",
       "      <td>0.059833</td>\n",
       "      <td>-0.192435</td>\n",
       "      <td>0.280287</td>\n",
       "      <td>0.378268</td>\n",
       "      <td>-0.514301</td>\n",
       "      <td>0.129423</td>\n",
       "      <td>1.000000</td>\n",
       "      <td>0.017470</td>\n",
       "      <td>0.115212</td>\n",
       "      <td>-0.013513</td>\n",
       "      <td>0.011139</td>\n",
       "      <td>-0.105848</td>\n",
       "      <td>0.247323</td>\n",
       "      <td>0.163049</td>\n",
       "      <td>0.310093</td>\n",
       "      <td>-0.047788</td>\n",
       "      <td>0.011231</td>\n",
       "    </tr>\n",
       "    <tr>\n",
       "      <th>INATTENTIONIND</th>\n",
       "      <td>0.041086</td>\n",
       "      <td>-0.083372</td>\n",
       "      <td>0.028272</td>\n",
       "      <td>0.122220</td>\n",
       "      <td>0.071432</td>\n",
       "      <td>-0.007442</td>\n",
       "      <td>0.001118</td>\n",
       "      <td>0.050647</td>\n",
       "      <td>0.070770</td>\n",
       "      <td>0.017470</td>\n",
       "      <td>1.000000</td>\n",
       "      <td>-0.030111</td>\n",
       "      <td>-0.075965</td>\n",
       "      <td>-0.051827</td>\n",
       "      <td>0.008617</td>\n",
       "      <td>-0.029869</td>\n",
       "      <td>-0.053575</td>\n",
       "      <td>-0.047849</td>\n",
       "      <td>0.016253</td>\n",
       "      <td>-0.019516</td>\n",
       "    </tr>\n",
       "    <tr>\n",
       "      <th>UNDERINFL</th>\n",
       "      <td>0.040494</td>\n",
       "      <td>-0.047234</td>\n",
       "      <td>0.007242</td>\n",
       "      <td>0.005037</td>\n",
       "      <td>0.018861</td>\n",
       "      <td>0.014464</td>\n",
       "      <td>-0.018483</td>\n",
       "      <td>-0.011041</td>\n",
       "      <td>0.056105</td>\n",
       "      <td>0.115212</td>\n",
       "      <td>-0.030111</td>\n",
       "      <td>1.000000</td>\n",
       "      <td>-0.036172</td>\n",
       "      <td>-0.008891</td>\n",
       "      <td>-0.218260</td>\n",
       "      <td>-0.019354</td>\n",
       "      <td>0.090924</td>\n",
       "      <td>0.092601</td>\n",
       "      <td>0.018817</td>\n",
       "      <td>0.075877</td>\n",
       "    </tr>\n",
       "    <tr>\n",
       "      <th>WEATHER</th>\n",
       "      <td>-0.090672</td>\n",
       "      <td>-0.071383</td>\n",
       "      <td>0.009091</td>\n",
       "      <td>0.022314</td>\n",
       "      <td>-0.053988</td>\n",
       "      <td>-0.005995</td>\n",
       "      <td>-0.051014</td>\n",
       "      <td>-0.011522</td>\n",
       "      <td>0.085308</td>\n",
       "      <td>-0.013513</td>\n",
       "      <td>-0.075965</td>\n",
       "      <td>-0.036172</td>\n",
       "      <td>1.000000</td>\n",
       "      <td>0.749459</td>\n",
       "      <td>0.159563</td>\n",
       "      <td>-0.011386</td>\n",
       "      <td>0.047987</td>\n",
       "      <td>0.091505</td>\n",
       "      <td>0.033487</td>\n",
       "      <td>0.015635</td>\n",
       "    </tr>\n",
       "    <tr>\n",
       "      <th>ROADCOND</th>\n",
       "      <td>-0.037201</td>\n",
       "      <td>-0.019919</td>\n",
       "      <td>0.003270</td>\n",
       "      <td>-0.004695</td>\n",
       "      <td>-0.025486</td>\n",
       "      <td>0.009011</td>\n",
       "      <td>-0.048255</td>\n",
       "      <td>-0.017510</td>\n",
       "      <td>0.027876</td>\n",
       "      <td>0.011139</td>\n",
       "      <td>-0.051827</td>\n",
       "      <td>-0.008891</td>\n",
       "      <td>0.749459</td>\n",
       "      <td>1.000000</td>\n",
       "      <td>-0.006383</td>\n",
       "      <td>0.001038</td>\n",
       "      <td>0.093850</td>\n",
       "      <td>0.030773</td>\n",
       "      <td>0.005203</td>\n",
       "      <td>0.022101</td>\n",
       "    </tr>\n",
       "    <tr>\n",
       "      <th>LIGHTCOND</th>\n",
       "      <td>-0.042654</td>\n",
       "      <td>-0.035660</td>\n",
       "      <td>0.012574</td>\n",
       "      <td>0.027448</td>\n",
       "      <td>-0.030275</td>\n",
       "      <td>-0.036208</td>\n",
       "      <td>0.017484</td>\n",
       "      <td>0.034552</td>\n",
       "      <td>0.030841</td>\n",
       "      <td>-0.105848</td>\n",
       "      <td>0.008617</td>\n",
       "      <td>-0.218260</td>\n",
       "      <td>0.159563</td>\n",
       "      <td>-0.006383</td>\n",
       "      <td>1.000000</td>\n",
       "      <td>-0.010856</td>\n",
       "      <td>-0.097767</td>\n",
       "      <td>-0.023895</td>\n",
       "      <td>0.012471</td>\n",
       "      <td>-0.093849</td>\n",
       "    </tr>\n",
       "    <tr>\n",
       "      <th>PEDROWNOTGRNT</th>\n",
       "      <td>0.206745</td>\n",
       "      <td>0.156509</td>\n",
       "      <td>-0.034324</td>\n",
       "      <td>-0.020849</td>\n",
       "      <td>-0.031549</td>\n",
       "      <td>0.496292</td>\n",
       "      <td>0.324506</td>\n",
       "      <td>-0.278069</td>\n",
       "      <td>-0.154162</td>\n",
       "      <td>0.247323</td>\n",
       "      <td>-0.029869</td>\n",
       "      <td>-0.019354</td>\n",
       "      <td>-0.011386</td>\n",
       "      <td>0.001038</td>\n",
       "      <td>-0.010856</td>\n",
       "      <td>1.000000</td>\n",
       "      <td>-0.030444</td>\n",
       "      <td>-0.092822</td>\n",
       "      <td>-0.028949</td>\n",
       "      <td>-0.030401</td>\n",
       "    </tr>\n",
       "    <tr>\n",
       "      <th>SPEEDING</th>\n",
       "      <td>0.035006</td>\n",
       "      <td>-0.064510</td>\n",
       "      <td>0.026131</td>\n",
       "      <td>-0.002655</td>\n",
       "      <td>-0.007240</td>\n",
       "      <td>-0.035019</td>\n",
       "      <td>-0.022345</td>\n",
       "      <td>-0.048710</td>\n",
       "      <td>0.066140</td>\n",
       "      <td>0.163049</td>\n",
       "      <td>-0.053575</td>\n",
       "      <td>0.090924</td>\n",
       "      <td>0.047987</td>\n",
       "      <td>0.093850</td>\n",
       "      <td>-0.097767</td>\n",
       "      <td>-0.030444</td>\n",
       "      <td>1.000000</td>\n",
       "      <td>0.111457</td>\n",
       "      <td>-0.024354</td>\n",
       "      <td>0.031770</td>\n",
       "    </tr>\n",
       "    <tr>\n",
       "      <th>ST_COLCODE</th>\n",
       "      <td>-0.194757</td>\n",
       "      <td>-0.251722</td>\n",
       "      <td>0.057718</td>\n",
       "      <td>0.055902</td>\n",
       "      <td>-0.201259</td>\n",
       "      <td>-0.294233</td>\n",
       "      <td>0.171159</td>\n",
       "      <td>-0.168679</td>\n",
       "      <td>0.277059</td>\n",
       "      <td>0.310093</td>\n",
       "      <td>-0.047849</td>\n",
       "      <td>0.092601</td>\n",
       "      <td>0.091505</td>\n",
       "      <td>0.030773</td>\n",
       "      <td>-0.023895</td>\n",
       "      <td>-0.092822</td>\n",
       "      <td>0.111457</td>\n",
       "      <td>1.000000</td>\n",
       "      <td>0.156572</td>\n",
       "      <td>0.037864</td>\n",
       "    </tr>\n",
       "    <tr>\n",
       "      <th>HITPARKEDCAR</th>\n",
       "      <td>-0.092600</td>\n",
       "      <td>-0.120168</td>\n",
       "      <td>0.013618</td>\n",
       "      <td>0.033584</td>\n",
       "      <td>-0.046344</td>\n",
       "      <td>-0.032719</td>\n",
       "      <td>-0.028267</td>\n",
       "      <td>0.071821</td>\n",
       "      <td>0.143814</td>\n",
       "      <td>-0.047788</td>\n",
       "      <td>0.016253</td>\n",
       "      <td>0.018817</td>\n",
       "      <td>0.033487</td>\n",
       "      <td>0.005203</td>\n",
       "      <td>0.012471</td>\n",
       "      <td>-0.028949</td>\n",
       "      <td>-0.024354</td>\n",
       "      <td>0.156572</td>\n",
       "      <td>1.000000</td>\n",
       "      <td>0.014900</td>\n",
       "    </tr>\n",
       "    <tr>\n",
       "      <th>day</th>\n",
       "      <td>-0.018249</td>\n",
       "      <td>-0.013543</td>\n",
       "      <td>0.000372</td>\n",
       "      <td>-0.017432</td>\n",
       "      <td>0.058407</td>\n",
       "      <td>-0.021440</td>\n",
       "      <td>-0.026257</td>\n",
       "      <td>0.004148</td>\n",
       "      <td>0.021608</td>\n",
       "      <td>0.011231</td>\n",
       "      <td>-0.019516</td>\n",
       "      <td>0.075877</td>\n",
       "      <td>0.015635</td>\n",
       "      <td>0.022101</td>\n",
       "      <td>-0.093849</td>\n",
       "      <td>-0.030401</td>\n",
       "      <td>0.031770</td>\n",
       "      <td>0.037864</td>\n",
       "      <td>0.014900</td>\n",
       "      <td>1.000000</td>\n",
       "    </tr>\n",
       "  </tbody>\n",
       "</table>\n",
       "</div>"
      ],
      "text/plain": [
       "                SEVERITYCODE  ADDRTYPE  LOCATION  COLLISIONTYPE  PERSONCOUNT  \\\n",
       "SEVERITYCODE        1.000000  0.192350 -0.037847      -0.127199     0.124381   \n",
       "ADDRTYPE            0.192350  1.000000 -0.279860      -0.482418     0.058764   \n",
       "LOCATION           -0.037847 -0.279860  1.000000       0.156635    -0.014756   \n",
       "COLLISIONTYPE      -0.127199 -0.482418  0.156635       1.000000     0.015115   \n",
       "PERSONCOUNT         0.124381  0.058764 -0.014756       0.015115     1.000000   \n",
       "PEDCOUNT            0.245265  0.146075 -0.038254       0.093339    -0.027212   \n",
       "PEDCYLCOUNT         0.214003  0.083707 -0.019029      -0.213029    -0.042894   \n",
       "VEHCOUNT           -0.081292 -0.093579  0.010038       0.105135     0.399424   \n",
       "JUNCTIONTYPE       -0.200736 -0.922735  0.247337       0.480315    -0.070026   \n",
       "SDOT_COLCODE        0.144818 -0.118468  0.050006       0.059833    -0.192435   \n",
       "INATTENTIONIND      0.041086 -0.083372  0.028272       0.122220     0.071432   \n",
       "UNDERINFL           0.040494 -0.047234  0.007242       0.005037     0.018861   \n",
       "WEATHER            -0.090672 -0.071383  0.009091       0.022314    -0.053988   \n",
       "ROADCOND           -0.037201 -0.019919  0.003270      -0.004695    -0.025486   \n",
       "LIGHTCOND          -0.042654 -0.035660  0.012574       0.027448    -0.030275   \n",
       "PEDROWNOTGRNT       0.206745  0.156509 -0.034324      -0.020849    -0.031549   \n",
       "SPEEDING            0.035006 -0.064510  0.026131      -0.002655    -0.007240   \n",
       "ST_COLCODE         -0.194757 -0.251722  0.057718       0.055902    -0.201259   \n",
       "HITPARKEDCAR       -0.092600 -0.120168  0.013618       0.033584    -0.046344   \n",
       "day                -0.018249 -0.013543  0.000372      -0.017432     0.058407   \n",
       "\n",
       "                PEDCOUNT  PEDCYLCOUNT  VEHCOUNT  JUNCTIONTYPE  SDOT_COLCODE  \\\n",
       "SEVERITYCODE    0.245265     0.214003 -0.081292     -0.200736      0.144818   \n",
       "ADDRTYPE        0.146075     0.083707 -0.093579     -0.922735     -0.118468   \n",
       "LOCATION       -0.038254    -0.019029  0.010038      0.247337      0.050006   \n",
       "COLLISIONTYPE   0.093339    -0.213029  0.105135      0.480315      0.059833   \n",
       "PERSONCOUNT    -0.027212    -0.042894  0.399424     -0.070026     -0.192435   \n",
       "PEDCOUNT        1.000000    -0.018631 -0.317339     -0.132194      0.280287   \n",
       "PEDCYLCOUNT    -0.018631     1.000000 -0.307591     -0.088573      0.378268   \n",
       "VEHCOUNT       -0.317339    -0.307591  1.000000      0.089992     -0.514301   \n",
       "JUNCTIONTYPE   -0.132194    -0.088573  0.089992      1.000000      0.129423   \n",
       "SDOT_COLCODE    0.280287     0.378268 -0.514301      0.129423      1.000000   \n",
       "INATTENTIONIND -0.007442     0.001118  0.050647      0.070770      0.017470   \n",
       "UNDERINFL       0.014464    -0.018483 -0.011041      0.056105      0.115212   \n",
       "WEATHER        -0.005995    -0.051014 -0.011522      0.085308     -0.013513   \n",
       "ROADCOND        0.009011    -0.048255 -0.017510      0.027876      0.011139   \n",
       "LIGHTCOND      -0.036208     0.017484  0.034552      0.030841     -0.105848   \n",
       "PEDROWNOTGRNT   0.496292     0.324506 -0.278069     -0.154162      0.247323   \n",
       "SPEEDING       -0.035019    -0.022345 -0.048710      0.066140      0.163049   \n",
       "ST_COLCODE     -0.294233     0.171159 -0.168679      0.277059      0.310093   \n",
       "HITPARKEDCAR   -0.032719    -0.028267  0.071821      0.143814     -0.047788   \n",
       "day            -0.021440    -0.026257  0.004148      0.021608      0.011231   \n",
       "\n",
       "                INATTENTIONIND  UNDERINFL   WEATHER  ROADCOND  LIGHTCOND  \\\n",
       "SEVERITYCODE          0.041086   0.040494 -0.090672 -0.037201  -0.042654   \n",
       "ADDRTYPE             -0.083372  -0.047234 -0.071383 -0.019919  -0.035660   \n",
       "LOCATION              0.028272   0.007242  0.009091  0.003270   0.012574   \n",
       "COLLISIONTYPE         0.122220   0.005037  0.022314 -0.004695   0.027448   \n",
       "PERSONCOUNT           0.071432   0.018861 -0.053988 -0.025486  -0.030275   \n",
       "PEDCOUNT             -0.007442   0.014464 -0.005995  0.009011  -0.036208   \n",
       "PEDCYLCOUNT           0.001118  -0.018483 -0.051014 -0.048255   0.017484   \n",
       "VEHCOUNT              0.050647  -0.011041 -0.011522 -0.017510   0.034552   \n",
       "JUNCTIONTYPE          0.070770   0.056105  0.085308  0.027876   0.030841   \n",
       "SDOT_COLCODE          0.017470   0.115212 -0.013513  0.011139  -0.105848   \n",
       "INATTENTIONIND        1.000000  -0.030111 -0.075965 -0.051827   0.008617   \n",
       "UNDERINFL            -0.030111   1.000000 -0.036172 -0.008891  -0.218260   \n",
       "WEATHER              -0.075965  -0.036172  1.000000  0.749459   0.159563   \n",
       "ROADCOND             -0.051827  -0.008891  0.749459  1.000000  -0.006383   \n",
       "LIGHTCOND             0.008617  -0.218260  0.159563 -0.006383   1.000000   \n",
       "PEDROWNOTGRNT        -0.029869  -0.019354 -0.011386  0.001038  -0.010856   \n",
       "SPEEDING             -0.053575   0.090924  0.047987  0.093850  -0.097767   \n",
       "ST_COLCODE           -0.047849   0.092601  0.091505  0.030773  -0.023895   \n",
       "HITPARKEDCAR          0.016253   0.018817  0.033487  0.005203   0.012471   \n",
       "day                  -0.019516   0.075877  0.015635  0.022101  -0.093849   \n",
       "\n",
       "                PEDROWNOTGRNT  SPEEDING  ST_COLCODE  HITPARKEDCAR       day  \n",
       "SEVERITYCODE         0.206745  0.035006   -0.194757     -0.092600 -0.018249  \n",
       "ADDRTYPE             0.156509 -0.064510   -0.251722     -0.120168 -0.013543  \n",
       "LOCATION            -0.034324  0.026131    0.057718      0.013618  0.000372  \n",
       "COLLISIONTYPE       -0.020849 -0.002655    0.055902      0.033584 -0.017432  \n",
       "PERSONCOUNT         -0.031549 -0.007240   -0.201259     -0.046344  0.058407  \n",
       "PEDCOUNT             0.496292 -0.035019   -0.294233     -0.032719 -0.021440  \n",
       "PEDCYLCOUNT          0.324506 -0.022345    0.171159     -0.028267 -0.026257  \n",
       "VEHCOUNT            -0.278069 -0.048710   -0.168679      0.071821  0.004148  \n",
       "JUNCTIONTYPE        -0.154162  0.066140    0.277059      0.143814  0.021608  \n",
       "SDOT_COLCODE         0.247323  0.163049    0.310093     -0.047788  0.011231  \n",
       "INATTENTIONIND      -0.029869 -0.053575   -0.047849      0.016253 -0.019516  \n",
       "UNDERINFL           -0.019354  0.090924    0.092601      0.018817  0.075877  \n",
       "WEATHER             -0.011386  0.047987    0.091505      0.033487  0.015635  \n",
       "ROADCOND             0.001038  0.093850    0.030773      0.005203  0.022101  \n",
       "LIGHTCOND           -0.010856 -0.097767   -0.023895      0.012471 -0.093849  \n",
       "PEDROWNOTGRNT        1.000000 -0.030444   -0.092822     -0.028949 -0.030401  \n",
       "SPEEDING            -0.030444  1.000000    0.111457     -0.024354  0.031770  \n",
       "ST_COLCODE          -0.092822  0.111457    1.000000      0.156572  0.037864  \n",
       "HITPARKEDCAR        -0.028949 -0.024354    0.156572      1.000000  0.014900  \n",
       "day                 -0.030401  0.031770    0.037864      0.014900  1.000000  "
      ]
     },
     "execution_count": 357,
     "metadata": {},
     "output_type": "execute_result"
    }
   ],
   "source": [
    "inputDF2.corr()"
   ]
  },
  {
   "cell_type": "code",
   "execution_count": 358,
   "metadata": {},
   "outputs": [],
   "source": [
    "inputDF2.drop([\"LOCATION\",\"INATTENTIONIND\",\"UNDERINFL\",\"ROADCOND\",\"LIGHTCOND\",\"SPEEDING\",\"day\"],axis=1, inplace=True)\n",
    "#inputDF2.drop([\"LOCATION\",\"day\"],axis=1, inplace=True)"
   ]
  },
  {
   "cell_type": "code",
   "execution_count": 359,
   "metadata": {},
   "outputs": [],
   "source": [
    "#split data into train and test\n",
    "X = inputDF2.loc[:, inputDF2.columns != 'SEVERITYCODE']\n",
    "y = inputDF2[\"SEVERITYCODE\"]"
   ]
  },
  {
   "cell_type": "code",
   "execution_count": 398,
   "metadata": {},
   "outputs": [],
   "source": [
    "X_train, X_test, y_train, y_test = train_test_split(X, y, test_size=0.1, random_state=1, stratify=y)"
   ]
  },
  {
   "cell_type": "code",
   "execution_count": 399,
   "metadata": {},
   "outputs": [],
   "source": [
    "def get_best_decisionTree(X_train, X_test,y_train, y_test):\n",
    "    accuracyDict={}\n",
    "    for i in range(3,20):\n",
    "        decisionTreeModel = DecisionTreeClassifier(max_depth=i)\n",
    "        decisionTreeModel = decisionTreeModel.fit(X_train,y_train)\n",
    "        y_pred = decisionTreeModel.predict(X_test)\n",
    "        #accuracyDict[i]=metrics.accuracy_score(y_test,y_pred)\n",
    "        accuracyDict[i]=metrics.f1_score(y_test,y_pred)\n",
    "    best_n = max(accuracyDict, key= lambda x: accuracyDict[x])\n",
    "    print(\"optimum max depth is\",best_n)\n",
    "    print(\"accuracy on test data is\", accuracyDict[best_n])\n",
    "    return DecisionTreeClassifier(max_depth=best_n).fit(X_train,y_train)\n",
    "        \n",
    "        \n",
    "    "
   ]
  },
  {
   "cell_type": "code",
   "execution_count": 261,
   "metadata": {},
   "outputs": [
    {
     "name": "stdout",
     "output_type": "stream",
     "text": [
      "optimum max depth is 5\n",
      "accuracy on test data is 0.509682172174279\n"
     ]
    }
   ],
   "source": [
    "bestDecisionTreeModel = get_best_decisionTree(X_train, X_test,y_train, y_test)"
   ]
  },
  {
   "cell_type": "code",
   "execution_count": 262,
   "metadata": {},
   "outputs": [
    {
     "data": {
      "text/plain": [
       "0.509682172174279"
      ]
     },
     "execution_count": 262,
     "metadata": {},
     "output_type": "execute_result"
    }
   ],
   "source": [
    "#f1_score\n",
    "y_pred = bestDecisionTreeModel.predict(X_test)\n",
    "metrics.f1_score(y_test,y_pred)\n"
   ]
  },
  {
   "cell_type": "code",
   "execution_count": 263,
   "metadata": {},
   "outputs": [
    {
     "data": {
      "text/plain": [
       "array([[ 4843,  6476],\n",
       "       [ 2842, 22371]], dtype=int64)"
      ]
     },
     "execution_count": 263,
     "metadata": {},
     "output_type": "execute_result"
    }
   ],
   "source": [
    "metrics.confusion_matrix(y_test,y_pred,labels=[1,0])"
   ]
  },
  {
   "cell_type": "markdown",
   "metadata": {},
   "source": [
    "### if you see from confusion matrix, accidents with severity code \"1\" are predicted accurately, but severity code \"2\" is totally inaccurate because of the imbalanced data\n",
    "### we want to improve that else our model won't be useful"
   ]
  },
  {
   "cell_type": "code",
   "execution_count": 126,
   "metadata": {},
   "outputs": [],
   "source": [
    "#from confusion matrix we can clearly see that our model is predicity the \"1\" very accurately, but not \"2\" severity accident.\n",
    "#reason is data is imbalanced, very bad performance for 2 severity code"
   ]
  },
  {
   "cell_type": "code",
   "execution_count": 127,
   "metadata": {},
   "outputs": [],
   "source": [
    "def get_best_KNN(X_train, X_test,y_train, y_test):\n",
    "    accuracyDict={}\n",
    "    for i in range(3,20):\n",
    "        knnModel = KNeighborsClassifier(n_neighbors=i)\n",
    "        knnModel =knnModel.fit(X_train,y_train)\n",
    "        y_pred = knnModel.predict(X_test)\n",
    "        #accuracyDict[i]=metrics.accuracy_score(y_test,y_pred)\n",
    "        accuracyDict[i]=metrics.f1_score(y_test,y_pred)\n",
    "    best_n = max(accuracyDict, key= lambda x: accuracyDict[x])\n",
    "    print(\"optimum max depth is\",best_n)\n",
    "    print(\"accuracy on test data is\", accuracyDict[best_n])\n",
    "    return KNeighborsClassifier(n_neighbors=best_n).fit(X_train,y_train)"
   ]
  },
  {
   "cell_type": "code",
   "execution_count": 128,
   "metadata": {},
   "outputs": [
    {
     "name": "stdout",
     "output_type": "stream",
     "text": [
      "optimum max depth is 3\n",
      "accuracy on test data is 0.44998087222647287\n"
     ]
    }
   ],
   "source": [
    "bestKNNModel = get_best_KNN(X_train, X_test,y_train, y_test)"
   ]
  },
  {
   "cell_type": "code",
   "execution_count": 129,
   "metadata": {},
   "outputs": [
    {
     "data": {
      "text/plain": [
       "0.44998087222647287"
      ]
     },
     "execution_count": 129,
     "metadata": {},
     "output_type": "execute_result"
    }
   ],
   "source": [
    "#f1_score\n",
    "y_pred = bestKNNModel.predict(X_test)\n",
    "metrics.f1_score(y_test,y_pred)"
   ]
  },
  {
   "cell_type": "code",
   "execution_count": 130,
   "metadata": {},
   "outputs": [
    {
     "data": {
      "text/plain": [
       "array([[ 4705,  6614],\n",
       "       [ 4888, 20325]], dtype=int64)"
      ]
     },
     "execution_count": 130,
     "metadata": {},
     "output_type": "execute_result"
    }
   ],
   "source": [
    "metrics.confusion_matrix(y_test,y_pred,labels=[1,0])"
   ]
  },
  {
   "cell_type": "markdown",
   "metadata": {},
   "source": [
    "### it is clear none of our model is working as f1_score is very less. Let's see if xgboost can save us"
   ]
  },
  {
   "cell_type": "code",
   "execution_count": 400,
   "metadata": {},
   "outputs": [],
   "source": [
    "xgbModel = XGBClassifier()"
   ]
  },
  {
   "cell_type": "code",
   "execution_count": 401,
   "metadata": {},
   "outputs": [],
   "source": [
    "hyperParams = {\n",
    "    \"learning_rate\":[0.05,0.10,0.15,0.20,0.25,0.30],\n",
    "    \"max_depth\" : [3,4,5,6,8,10,12,15,20],\n",
    "    \"min_child_weight\": [1,3,5,7],\n",
    "    \"gamma\":[0.1,0.2,0.3,0.4],\n",
    "    \"colsample_bytree\":[0.3,0.4,0.5,0.7],\n",
    "    \"scale_pos_weight\":[2,2.2,2.5,2.7,2.9,3]\n",
    "}"
   ]
  },
  {
   "cell_type": "code",
   "execution_count": 402,
   "metadata": {},
   "outputs": [],
   "source": [
    "random_search = RandomizedSearchCV(xgbModel,param_distributions=hyperParams,n_iter=5,n_jobs=-1,cv=5,verbose=3,scoring='f1')"
   ]
  },
  {
   "cell_type": "code",
   "execution_count": 403,
   "metadata": {},
   "outputs": [
    {
     "name": "stdout",
     "output_type": "stream",
     "text": [
      "2\n"
     ]
    }
   ],
   "source": [
    "weight = int(y_train.value_counts()[0]/y_train.value_counts()[1])\n",
    "print(weight)"
   ]
  },
  {
   "cell_type": "code",
   "execution_count": 404,
   "metadata": {},
   "outputs": [
    {
     "data": {
      "text/plain": [
       "['accuracy',\n",
       " 'adjusted_mutual_info_score',\n",
       " 'adjusted_rand_score',\n",
       " 'average_precision',\n",
       " 'balanced_accuracy',\n",
       " 'brier_score_loss',\n",
       " 'completeness_score',\n",
       " 'explained_variance',\n",
       " 'f1',\n",
       " 'f1_macro',\n",
       " 'f1_micro',\n",
       " 'f1_samples',\n",
       " 'f1_weighted',\n",
       " 'fowlkes_mallows_score',\n",
       " 'homogeneity_score',\n",
       " 'jaccard',\n",
       " 'jaccard_macro',\n",
       " 'jaccard_micro',\n",
       " 'jaccard_samples',\n",
       " 'jaccard_weighted',\n",
       " 'max_error',\n",
       " 'mutual_info_score',\n",
       " 'neg_log_loss',\n",
       " 'neg_mean_absolute_error',\n",
       " 'neg_mean_squared_error',\n",
       " 'neg_mean_squared_log_error',\n",
       " 'neg_median_absolute_error',\n",
       " 'normalized_mutual_info_score',\n",
       " 'precision',\n",
       " 'precision_macro',\n",
       " 'precision_micro',\n",
       " 'precision_samples',\n",
       " 'precision_weighted',\n",
       " 'r2',\n",
       " 'recall',\n",
       " 'recall_macro',\n",
       " 'recall_micro',\n",
       " 'recall_samples',\n",
       " 'recall_weighted',\n",
       " 'roc_auc',\n",
       " 'v_measure_score']"
      ]
     },
     "execution_count": 404,
     "metadata": {},
     "output_type": "execute_result"
    }
   ],
   "source": [
    "import sklearn\n",
    "sorted(sklearn.metrics.SCORERS.keys())"
   ]
  },
  {
   "cell_type": "code",
   "execution_count": 405,
   "metadata": {},
   "outputs": [
    {
     "name": "stdout",
     "output_type": "stream",
     "text": [
      "Fitting 5 folds for each of 5 candidates, totalling 25 fits\n"
     ]
    },
    {
     "name": "stderr",
     "output_type": "stream",
     "text": [
      "[Parallel(n_jobs=-1)]: Using backend LokyBackend with 8 concurrent workers.\n",
      "[Parallel(n_jobs=-1)]: Done  19 out of  25 | elapsed:   48.4s remaining:   15.2s\n",
      "[Parallel(n_jobs=-1)]: Done  25 out of  25 | elapsed:   55.4s finished\n"
     ]
    },
    {
     "data": {
      "text/plain": [
       "RandomizedSearchCV(cv=5, error_score='raise-deprecating',\n",
       "                   estimator=XGBClassifier(base_score=None, booster=None,\n",
       "                                           colsample_bylevel=None,\n",
       "                                           colsample_bynode=None,\n",
       "                                           colsample_bytree=None, gamma=None,\n",
       "                                           gpu_id=None, importance_type='gain',\n",
       "                                           interaction_constraints=None,\n",
       "                                           learning_rate=None,\n",
       "                                           max_delta_step=None, max_depth=None,\n",
       "                                           min_child_weight=None, missing=nan,\n",
       "                                           monotone_co...\n",
       "                   iid='warn', n_iter=5, n_jobs=-1,\n",
       "                   param_distributions={'colsample_bytree': [0.3, 0.4, 0.5,\n",
       "                                                             0.7],\n",
       "                                        'gamma': [0.1, 0.2, 0.3, 0.4],\n",
       "                                        'learning_rate': [0.05, 0.1, 0.15, 0.2,\n",
       "                                                          0.25, 0.3],\n",
       "                                        'max_depth': [3, 4, 5, 6, 8, 10, 12, 15,\n",
       "                                                      20],\n",
       "                                        'min_child_weight': [1, 3, 5, 7],\n",
       "                                        'scale_pos_weight': [2, 2.2, 2.5, 2.7,\n",
       "                                                             2.9, 3]},\n",
       "                   pre_dispatch='2*n_jobs', random_state=None, refit=True,\n",
       "                   return_train_score=False, scoring='f1', verbose=3)"
      ]
     },
     "execution_count": 405,
     "metadata": {},
     "output_type": "execute_result"
    }
   ],
   "source": [
    "random_search.fit(X_train, y_train)"
   ]
  },
  {
   "cell_type": "code",
   "execution_count": 406,
   "metadata": {},
   "outputs": [
    {
     "data": {
      "text/plain": [
       "XGBClassifier(base_score=0.5, booster='gbtree', colsample_bylevel=1,\n",
       "              colsample_bynode=1, colsample_bytree=0.3, gamma=0.1, gpu_id=-1,\n",
       "              importance_type='gain', interaction_constraints='',\n",
       "              learning_rate=0.2, max_delta_step=0, max_depth=6,\n",
       "              min_child_weight=1, missing=nan, monotone_constraints='()',\n",
       "              n_estimators=100, n_jobs=0, num_parallel_tree=1,\n",
       "              objective='binary:logistic', random_state=0, reg_alpha=0,\n",
       "              reg_lambda=1, scale_pos_weight=2.2, subsample=1,\n",
       "              tree_method='exact', validate_parameters=1, verbosity=None)"
      ]
     },
     "execution_count": 406,
     "metadata": {},
     "output_type": "execute_result"
    }
   ],
   "source": [
    "random_search.best_estimator_"
   ]
  },
  {
   "cell_type": "code",
   "execution_count": 407,
   "metadata": {},
   "outputs": [],
   "source": [
    "bestXGBoost=XGBClassifier(base_score=0.5, booster='gbtree', colsample_bylevel=1,\n",
    "              colsample_bynode=1, colsample_bytree=0.3, gamma=0.1, gpu_id=-1,\n",
    "              importance_type='gain', interaction_constraints='',\n",
    "              learning_rate=0.2, max_delta_step=0, max_depth=6,\n",
    "              min_child_weight=1, monotone_constraints='()',\n",
    "              n_estimators=100, n_jobs=0, num_parallel_tree=1,\n",
    "              objective='binary:logistic', random_state=0, reg_alpha=0,\n",
    "              reg_lambda=1, scale_pos_weight=2.2, subsample=1,\n",
    "              tree_method='exact', validate_parameters=1, verbosity=None)"
   ]
  },
  {
   "cell_type": "code",
   "execution_count": 408,
   "metadata": {},
   "outputs": [
    {
     "data": {
      "text/plain": [
       "XGBClassifier(base_score=0.5, booster='gbtree', colsample_bylevel=1,\n",
       "              colsample_bynode=1, colsample_bytree=0.3, gamma=0.1, gpu_id=-1,\n",
       "              importance_type='gain', interaction_constraints='',\n",
       "              learning_rate=0.2, max_delta_step=0, max_depth=6,\n",
       "              min_child_weight=1, missing=nan, monotone_constraints='()',\n",
       "              n_estimators=100, n_jobs=0, num_parallel_tree=1,\n",
       "              objective='binary:logistic', random_state=0, reg_alpha=0,\n",
       "              reg_lambda=1, scale_pos_weight=2.2, subsample=1,\n",
       "              tree_method='exact', validate_parameters=1, verbosity=None)"
      ]
     },
     "execution_count": 408,
     "metadata": {},
     "output_type": "execute_result"
    }
   ],
   "source": [
    "bestXGBoost.fit(X_train, y_train)"
   ]
  },
  {
   "cell_type": "code",
   "execution_count": 409,
   "metadata": {},
   "outputs": [],
   "source": [
    "y_pred = bestXGBoost.predict(X_test)"
   ]
  },
  {
   "cell_type": "code",
   "execution_count": 410,
   "metadata": {},
   "outputs": [
    {
     "data": {
      "text/plain": [
       "0.6874520967918537"
      ]
     },
     "execution_count": 410,
     "metadata": {},
     "output_type": "execute_result"
    }
   ],
   "source": [
    "metrics.accuracy_score(y_test,y_pred)"
   ]
  },
  {
   "cell_type": "code",
   "execution_count": 411,
   "metadata": {},
   "outputs": [
    {
     "data": {
      "text/plain": [
       "0.612555140821174"
      ]
     },
     "execution_count": 411,
     "metadata": {},
     "output_type": "execute_result"
    }
   ],
   "source": [
    "metrics.f1_score(y_test,y_pred)"
   ]
  },
  {
   "cell_type": "code",
   "execution_count": 412,
   "metadata": {},
   "outputs": [
    {
     "data": {
      "text/plain": [
       "array([[4513, 1147],\n",
       "       [4562, 8044]], dtype=int64)"
      ]
     },
     "execution_count": 412,
     "metadata": {},
     "output_type": "execute_result"
    }
   ],
   "source": [
    "metrics.confusion_matrix(y_test,y_pred,labels=[1,0])"
   ]
  },
  {
   "cell_type": "markdown",
   "metadata": {},
   "source": [
    "### wow the f1_score has jumped soooo much using the weight parameter\n",
    "### also now predicting severe accidents is much better, which is actually important.\n",
    "### our goal is to maximise the prediction for accident with severity dangerous(2). Xgboost is giving it around 80%"
   ]
  },
  {
   "cell_type": "code",
   "execution_count": null,
   "metadata": {},
   "outputs": [],
   "source": []
  }
 ],
 "metadata": {
  "kernelspec": {
   "display_name": "Python 3",
   "language": "python",
   "name": "python3"
  },
  "language_info": {
   "codemirror_mode": {
    "name": "ipython",
    "version": 3
   },
   "file_extension": ".py",
   "mimetype": "text/x-python",
   "name": "python",
   "nbconvert_exporter": "python",
   "pygments_lexer": "ipython3",
   "version": "3.6.8"
  }
 },
 "nbformat": 4,
 "nbformat_minor": 2
}
