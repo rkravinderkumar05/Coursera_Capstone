{
 "cells": [
  {
   "cell_type": "markdown",
   "metadata": {},
   "source": [
    "## This jupyter notebook will be mainly used for Coursera Capstone project\n",
    "### We will use supervised algorithm to predict the severity of an accident"
   ]
  },
  {
   "cell_type": "code",
   "execution_count": 1,
   "metadata": {},
   "outputs": [],
   "source": [
    "#importing libraries\n",
    "import pandas as pd\n",
    "import numpy as np\n",
    "import matplotlib.pyplot as plt\n",
    "import datetime as dt\n",
    "from sklearn import preprocessing\n",
    "from sklearn.model_selection import train_test_split, RandomizedSearchCV, GridSearchCV\n",
    "import seaborn as sns\n",
    "from sklearn.tree import DecisionTreeClassifier # Import Decision Tree Classifier\n",
    "from sklearn import metrics #Import scikit-learn metrics module for accuracy calculation\n",
    "from sklearn.neighbors import KNeighborsClassifier\n",
    "from xgboost import XGBClassifier\n",
    "from sklearn.ensemble import RandomForestClassifier\n",
    "from sklearn.linear_model import LogisticRegression\n",
    "from sklearn.svm import SVC"
   ]
  },
  {
   "cell_type": "code",
   "execution_count": 2,
   "metadata": {},
   "outputs": [
    {
     "name": "stdout",
     "output_type": "stream",
     "text": [
      "Hello Capstone Project Course!\n"
     ]
    }
   ],
   "source": [
    "print(\"Hello Capstone Project Course!\")"
   ]
  },
  {
   "cell_type": "code",
   "execution_count": 3,
   "metadata": {},
   "outputs": [],
   "source": [
    "landingDir = \"E:/coursera/capstoneDS/github/Coursera_Capstone/\""
   ]
  },
  {
   "cell_type": "code",
   "execution_count": 4,
   "metadata": {},
   "outputs": [
    {
     "name": "stderr",
     "output_type": "stream",
     "text": [
      "e:\\pycharmprojects\\myprojects\\venv\\lib\\site-packages\\IPython\\core\\interactiveshell.py:3057: DtypeWarning: Columns (33) have mixed types. Specify dtype option on import or set low_memory=False.\n",
      "  interactivity=interactivity, compiler=compiler, result=result)\n"
     ]
    }
   ],
   "source": [
    "inputDF = pd.read_csv(landingDir+\"/datasets/Data-Collisions.csv\")"
   ]
  },
  {
   "cell_type": "code",
   "execution_count": 5,
   "metadata": {},
   "outputs": [
    {
     "data": {
      "text/plain": [
       "194673"
      ]
     },
     "execution_count": 5,
     "metadata": {},
     "output_type": "execute_result"
    }
   ],
   "source": [
    "len(inputDF)"
   ]
  },
  {
   "cell_type": "code",
   "execution_count": 6,
   "metadata": {},
   "outputs": [],
   "source": [
    "#finding if any column contains nan\n",
    "nanColumns = inputDF.columns[inputDF.isna().any()].tolist()"
   ]
  },
  {
   "cell_type": "markdown",
   "metadata": {},
   "source": [
    "### some columns like key, objectid etc are not important"
   ]
  },
  {
   "cell_type": "code",
   "execution_count": 7,
   "metadata": {},
   "outputs": [],
   "source": [
    "#dropping some columns like codes, identifiers etc\n",
    "inputDF.drop(columns=['X','Y','OBJECTID','INCKEY','COLDETKEY','REPORTNO','STATUS','INTKEY','EXCEPTRSNCODE','EXCEPTRSNDESC'\n",
    "                      ,'SEVERITYCODE.1','SEVERITYDESC','INCDATE','SDOT_COLDESC','SDOTCOLNUM','ST_COLDESC','SEGLANEKEY',\n",
    "                      'CROSSWALKKEY'],inplace=True)"
   ]
  },
  {
   "cell_type": "code",
   "execution_count": 8,
   "metadata": {},
   "outputs": [
    {
     "data": {
      "text/plain": [
       "SEVERITYCODE           0\n",
       "ADDRTYPE            1926\n",
       "LOCATION            2677\n",
       "COLLISIONTYPE       4904\n",
       "PERSONCOUNT            0\n",
       "PEDCOUNT               0\n",
       "PEDCYLCOUNT            0\n",
       "VEHCOUNT               0\n",
       "INCDTTM                0\n",
       "JUNCTIONTYPE        6329\n",
       "SDOT_COLCODE           0\n",
       "INATTENTIONIND    164868\n",
       "UNDERINFL           4884\n",
       "WEATHER             5081\n",
       "ROADCOND            5012\n",
       "LIGHTCOND           5170\n",
       "PEDROWNOTGRNT     190006\n",
       "SPEEDING          185340\n",
       "ST_COLCODE            18\n",
       "HITPARKEDCAR           0\n",
       "dtype: int64"
      ]
     },
     "execution_count": 8,
     "metadata": {},
     "output_type": "execute_result"
    }
   ],
   "source": [
    "#finding count of null values for columns\n",
    "inputDF.isna().sum()"
   ]
  },
  {
   "cell_type": "code",
   "execution_count": 9,
   "metadata": {},
   "outputs": [
    {
     "data": {
      "text/plain": [
       "SEVERITYCODE       int64\n",
       "ADDRTYPE          object\n",
       "LOCATION          object\n",
       "COLLISIONTYPE     object\n",
       "PERSONCOUNT        int64\n",
       "PEDCOUNT           int64\n",
       "PEDCYLCOUNT        int64\n",
       "VEHCOUNT           int64\n",
       "INCDTTM           object\n",
       "JUNCTIONTYPE      object\n",
       "SDOT_COLCODE       int64\n",
       "INATTENTIONIND    object\n",
       "UNDERINFL         object\n",
       "WEATHER           object\n",
       "ROADCOND          object\n",
       "LIGHTCOND         object\n",
       "PEDROWNOTGRNT     object\n",
       "SPEEDING          object\n",
       "ST_COLCODE        object\n",
       "HITPARKEDCAR      object\n",
       "dtype: object"
      ]
     },
     "execution_count": 9,
     "metadata": {},
     "output_type": "execute_result"
    }
   ],
   "source": [
    "inputDF.dtypes"
   ]
  },
  {
   "cell_type": "code",
   "execution_count": 10,
   "metadata": {},
   "outputs": [],
   "source": [
    "#its really difficult to replace the nan with some values. Let's try dropping them as it is less compared to the total rows\n",
    "inputDF.dropna(subset = [\"ADDRTYPE\",\"LOCATION\",\"COLLISIONTYPE\",\"JUNCTIONTYPE\",\"WEATHER\",\"ROADCOND\",\n",
    "                                   \"LIGHTCOND\",\"ST_COLCODE\"], inplace=True)"
   ]
  },
  {
   "cell_type": "markdown",
   "metadata": {},
   "source": [
    "## replacing boolean to 1, 0 "
   ]
  },
  {
   "cell_type": "code",
   "execution_count": 12,
   "metadata": {},
   "outputs": [],
   "source": [
    "#inattentionid is \"y\" or blank, let's replace y with 1 and blank with 0\n",
    "inputDF[\"INATTENTIONIND\"]=inputDF[\"INATTENTIONIND\"].apply(lambda x : 1 if x==\"Y\" else 0)\n",
    "inputDF[\"UNDERINFL\"]=inputDF[\"UNDERINFL\"].apply(lambda x : 1 if x =='Y' else (0 if x == 'N' else int(x)))\n",
    "inputDF[\"PEDROWNOTGRNT\"]=inputDF[\"PEDROWNOTGRNT\"].apply(lambda x : 1 if x==\"Y\" else 0)\n",
    "inputDF[\"SPEEDING\"]=inputDF[\"SPEEDING\"].apply(lambda x : 1 if x==\"Y\" else 0)\n",
    "inputDF[\"HITPARKEDCAR\"]=inputDF[\"HITPARKEDCAR\"].apply(lambda x : 1 if x==\"Y\" else 0)\n",
    "inputDF[\"SEVERITYCODE\"]=inputDF[\"SEVERITYCODE\"].apply(lambda x : 0 if x==1 else 1)\n",
    "inputDF[\"ADDRTYPE\"]=inputDF[\"ADDRTYPE\"].apply(lambda x : 0 if x=='Block' else 1)\n"
   ]
  },
  {
   "cell_type": "markdown",
   "metadata": {},
   "source": [
    "## function to get hour part from datetime and week day"
   ]
  },
  {
   "cell_type": "code",
   "execution_count": 14,
   "metadata": {},
   "outputs": [],
   "source": [
    "#function to get time and day type from datetimestamp\n",
    "def getTimeFromDate(inputDate):\n",
    "    hrs = inputDate.hour\n",
    "    if hrs<11 and hrs >=6:\n",
    "        #timeType=0\n",
    "        timeType = \"morning\"\n",
    "    elif hrs >=11 and hrs<16:\n",
    "        #timeType=1\n",
    "        timeType = \"afternoon\"\n",
    "    elif hrs >=16 and hrs < 18:\n",
    "        #timeType=2\n",
    "        timeType = \"evening\"\n",
    "    elif hrs >=18 and hrs < 21 :\n",
    "        #timeType=3\n",
    "        timeType = \"night\"\n",
    "    elif hrs >=21 and hrs <=23:\n",
    "        #timeType=4\n",
    "        timeType =\"latenight\"\n",
    "    else:\n",
    "        #timeType=5\n",
    "        timeType = \"nonbusy\"\n",
    "    return timeType     \n",
    "\n",
    "def isWeekend(inputDate):\n",
    "    return 1 if inputDate.weekday()>=5 else 0"
   ]
  },
  {
   "cell_type": "markdown",
   "metadata": {},
   "source": [
    "## function for plotting confusion matrix using seaborn"
   ]
  },
  {
   "cell_type": "code",
   "execution_count": 141,
   "metadata": {},
   "outputs": [],
   "source": [
    "def plot_confusion_matrix(data, labels):\n",
    "    \"\"\"Plot confusion matrix using heatmap.\n",
    " \n",
    "    Args:\n",
    "        data (list of list): List of lists with confusion matrix data.\n",
    "        labels (list): Labels which will be plotted across x and y axis.\n",
    "        output_filename (str): Path to output file.\n",
    " \n",
    "    \"\"\"\n",
    "    sns.set(color_codes=True)\n",
    "    plt.figure(1, figsize=(9, 6))\n",
    " \n",
    "    plt.title(\"Confusion Matrix\")\n",
    " \n",
    "    sns.set(font_scale=1.4)\n",
    "    ax = sns.heatmap(data, annot=True, cmap=\"YlGnBu\", cbar_kws={'label': 'Scale'},fmt='g')\n",
    " \n",
    "    ax.set_xticklabels(labels)\n",
    "    ax.set_yticklabels(labels)\n",
    "    ax.set_ylim([0,2])\n",
    " \n",
    "    ax.set(ylabel=\"True Label\", xlabel=\"Predicted Label\")\n",
    " \n",
    "    #plt.savefig(output_filename, bbox_inches='tight', dpi=300)\n",
    "    plt.show()\n",
    " "
   ]
  },
  {
   "cell_type": "code",
   "execution_count": 15,
   "metadata": {},
   "outputs": [],
   "source": [
    "inputDF[\"INCDTTM\"]=pd.to_datetime(inputDF[\"INCDTTM\"])"
   ]
  },
  {
   "cell_type": "code",
   "execution_count": 16,
   "metadata": {},
   "outputs": [],
   "source": [
    "inputDF[\"timeType\"]=inputDF[\"INCDTTM\"].apply(lambda x: getTimeFromDate(x))"
   ]
  },
  {
   "cell_type": "code",
   "execution_count": 17,
   "metadata": {},
   "outputs": [],
   "source": [
    "inputDF[\"day\"]=inputDF[\"INCDTTM\"].apply(lambda x: x.weekday())"
   ]
  },
  {
   "cell_type": "code",
   "execution_count": 18,
   "metadata": {},
   "outputs": [],
   "source": [
    "# #VISUALISATIONS\n",
    "# #GET NUMBERICAL variables\n",
    "# numericDF = inputDF[[\"PERSONCOUNT\",\"PEDCOUNT\",\"PEDCYLCOUNT\",\"VEHCOUNT\"]]\n",
    "# numericDF.plot(kind='box', subplots=True, layout=(2,2), sharex=False, sharey=False, figsize=(10,10), \n",
    "#                                         title='Box Plot for each input variable')\n",
    "# plt.savefig('fruits_box')\n",
    "# plt.show()"
   ]
  },
  {
   "cell_type": "code",
   "execution_count": 21,
   "metadata": {},
   "outputs": [],
   "source": [
    "# #the count variables are kind of discrete ratter than continous\n",
    "# #import pylab as pl\n",
    "# numericDF.hist(bins=30, figsize=(9,9))\n",
    "# #pl.suptitle(\"Histogram for each numeric input variable\")\n",
    "# plt.show()"
   ]
  },
  {
   "cell_type": "code",
   "execution_count": 22,
   "metadata": {},
   "outputs": [
    {
     "data": {
      "text/plain": [
       "0    177249\n",
       "1      5370\n",
       "2        41\n",
       "Name: PEDCYLCOUNT, dtype: int64"
      ]
     },
     "execution_count": 22,
     "metadata": {},
     "output_type": "execute_result"
    }
   ],
   "source": [
    "inputDF[\"PEDCYLCOUNT\"].value_counts()"
   ]
  },
  {
   "cell_type": "code",
   "execution_count": 23,
   "metadata": {},
   "outputs": [],
   "source": [
    "#we can see that PEDCOUNT AND PEDCYLCOUNT doesn't make any impact on the target variable. Lets drop these 2 variables\n",
    "inputDF.drop(columns=['PEDCOUNT','PEDCYLCOUNT'],inplace=True)"
   ]
  },
  {
   "cell_type": "code",
   "execution_count": 24,
   "metadata": {},
   "outputs": [
    {
     "data": {
      "text/plain": [
       "2     141508\n",
       "1      24942\n",
       "3      12863\n",
       "4       2404\n",
       "5        526\n",
       "0        195\n",
       "6        144\n",
       "7         45\n",
       "8         15\n",
       "9          9\n",
       "11         6\n",
       "10         2\n",
       "12         1\n",
       "Name: VEHCOUNT, dtype: int64"
      ]
     },
     "execution_count": 24,
     "metadata": {},
     "output_type": "execute_result"
    }
   ],
   "source": [
    "inputDF[\"PERSONCOUNT\"].value_counts()\n",
    "inputDF[\"VEHCOUNT\"].value_counts()\n",
    "#we can categorize these features as low, medium height etc"
   ]
  },
  {
   "cell_type": "code",
   "execution_count": 25,
   "metadata": {},
   "outputs": [
    {
     "data": {
      "text/plain": [
       "SEVERITYCODE      0\n",
       "ADDRTYPE          0\n",
       "LOCATION          0\n",
       "COLLISIONTYPE     0\n",
       "PERSONCOUNT       0\n",
       "VEHCOUNT          0\n",
       "INCDTTM           0\n",
       "JUNCTIONTYPE      0\n",
       "SDOT_COLCODE      0\n",
       "INATTENTIONIND    0\n",
       "UNDERINFL         0\n",
       "WEATHER           0\n",
       "ROADCOND          0\n",
       "LIGHTCOND         0\n",
       "PEDROWNOTGRNT     0\n",
       "SPEEDING          0\n",
       "ST_COLCODE        0\n",
       "HITPARKEDCAR      0\n",
       "timeType          0\n",
       "day               0\n",
       "dtype: int64"
      ]
     },
     "execution_count": 25,
     "metadata": {},
     "output_type": "execute_result"
    }
   ],
   "source": [
    "inputDF.isna().sum()"
   ]
  },
  {
   "cell_type": "code",
   "execution_count": 26,
   "metadata": {},
   "outputs": [
    {
     "data": {
      "text/plain": [
       "182660"
      ]
     },
     "execution_count": 26,
     "metadata": {},
     "output_type": "execute_result"
    }
   ],
   "source": [
    "len(inputDF)"
   ]
  },
  {
   "cell_type": "markdown",
   "metadata": {},
   "source": [
    "## distribution of target variable"
   ]
  },
  {
   "cell_type": "code",
   "execution_count": 27,
   "metadata": {},
   "outputs": [
    {
     "name": "stderr",
     "output_type": "stream",
     "text": [
      "e:\\pycharmprojects\\myprojects\\venv\\lib\\site-packages\\seaborn\\_decorators.py:43: FutureWarning: Pass the following variable as a keyword arg: x. From version 0.12, the only valid positional argument will be `data`, and passing other arguments without an explicit keyword will result in an error or misinterpretation.\n",
      "  FutureWarning\n"
     ]
    },
    {
     "data": {
      "text/plain": [
       "<matplotlib.axes._subplots.AxesSubplot at 0x17f19ed1438>"
      ]
     },
     "execution_count": 27,
     "metadata": {},
     "output_type": "execute_result"
    },
    {
     "data": {
      "image/png": "[encoded data removed]",
      "text/plain": [
       "<Figure size 432x288 with 1 Axes>"
      ]
     },
     "metadata": {
      "needs_background": "light"
     },
     "output_type": "display_data"
    }
   ],
   "source": [
    "sns.countplot(inputDF['SEVERITYCODE'],label=\"Count\")"
   ]
  },
  {
   "cell_type": "markdown",
   "metadata": {},
   "source": [
    "### lets make our dataframe understandable for ml algorithm"
   ]
  },
  {
   "cell_type": "code",
   "execution_count": 28,
   "metadata": {},
   "outputs": [],
   "source": [
    "# label_encoder object knows how to understand word labels. \n",
    "inputDF1 = inputDF.copy()\n",
    "label_encoder = preprocessing.LabelEncoder()\n",
    "# Encode labels in column 'LOCATION'. \n",
    "inputDF1['LOCATION']= label_encoder.fit_transform(inputDF1['LOCATION']) "
   ]
  },
  {
   "cell_type": "code",
   "execution_count": 29,
   "metadata": {},
   "outputs": [
    {
     "data": {
      "text/plain": [
       "10626    272\n",
       "10627    267\n",
       "16568    259\n",
       "10463    246\n",
       "9001     241\n",
       "10178    235\n",
       "10467    232\n",
       "19008    227\n",
       "23328    207\n",
       "10190    206\n",
       "Name: LOCATION, dtype: int64"
      ]
     },
     "execution_count": 29,
     "metadata": {},
     "output_type": "execute_result"
    }
   ],
   "source": [
    "inputDF1[\"LOCATION\"].value_counts().sort_values(ascending=False).head(10)"
   ]
  },
  {
   "cell_type": "code",
   "execution_count": 30,
   "metadata": {},
   "outputs": [],
   "source": [
    "#topLocs = [ x for x in inputDF1.LOCATION.value_counts().sort_values(ascending=False).head(60).index]"
   ]
  },
  {
   "cell_type": "code",
   "execution_count": 31,
   "metadata": {},
   "outputs": [],
   "source": [
    "inputDF1.columns\n",
    "inputDF1.drop([\"INCDTTM\",\"timeType\",\"ST_COLCODE\",\"day\",\"LOCATION\"],inplace=True,axis=1)"
   ]
  },
  {
   "cell_type": "code",
   "execution_count": 32,
   "metadata": {},
   "outputs": [],
   "source": [
    "#droping few more columns\n",
    "#inputDF2 = inputDF1.drop([\"LOCATION\",\"SDOT_COLCODE\",\"ST_COLCODE\"],axis=1)\n",
    "inputDF2 = inputDF1.copy()"
   ]
  },
  {
   "cell_type": "code",
   "execution_count": 34,
   "metadata": {},
   "outputs": [
    {
     "data": {
      "text/html": [
       "<style  type=\"text/css\" >\n",
       "    #T_57e719cc_00e7_11eb_8acf_00f48da1d446row0_col0 {\n",
       "            background-color:  #b40426;\n",
       "            color:  #f1f1f1;\n",
       "        }    #T_57e719cc_00e7_11eb_8acf_00f48da1d446row0_col1 {\n",
       "            background-color:  #97b8ff;\n",
       "            color:  #000000;\n",
       "        }    #T_57e719cc_00e7_11eb_8acf_00f48da1d446row0_col2 {\n",
       "            background-color:  #8db0fe;\n",
       "            color:  #000000;\n",
       "        }    #T_57e719cc_00e7_11eb_8acf_00f48da1d446row0_col3 {\n",
       "            background-color:  #96b7ff;\n",
       "            color:  #000000;\n",
       "        }    #T_57e719cc_00e7_11eb_8acf_00f48da1d446row0_col4 {\n",
       "            background-color:  #cdd9ec;\n",
       "            color:  #000000;\n",
       "        }    #T_57e719cc_00e7_11eb_8acf_00f48da1d446row0_col5 {\n",
       "            background-color:  #5e7de7;\n",
       "            color:  #000000;\n",
       "        }    #T_57e719cc_00e7_11eb_8acf_00f48da1d446row0_col6 {\n",
       "            background-color:  #5470de;\n",
       "            color:  #000000;\n",
       "        }    #T_57e719cc_00e7_11eb_8acf_00f48da1d446row0_col7 {\n",
       "            background-color:  #bad0f8;\n",
       "            color:  #000000;\n",
       "        }    #T_57e719cc_00e7_11eb_8acf_00f48da1d446row0_col8 {\n",
       "            background-color:  #5673e0;\n",
       "            color:  #000000;\n",
       "        }    #T_57e719cc_00e7_11eb_8acf_00f48da1d446row0_col9 {\n",
       "            background-color:  #4257c9;\n",
       "            color:  #f1f1f1;\n",
       "        }    #T_57e719cc_00e7_11eb_8acf_00f48da1d446row1_col0 {\n",
       "            background-color:  #90b2fe;\n",
       "            color:  #000000;\n",
       "        }    #T_57e719cc_00e7_11eb_8acf_00f48da1d446row1_col1 {\n",
       "            background-color:  #b40426;\n",
       "            color:  #f1f1f1;\n",
       "        }    #T_57e719cc_00e7_11eb_8acf_00f48da1d446row1_col2 {\n",
       "            background-color:  #799cf8;\n",
       "            color:  #000000;\n",
       "        }    #T_57e719cc_00e7_11eb_8acf_00f48da1d446row1_col3 {\n",
       "            background-color:  #93b5fe;\n",
       "            color:  #000000;\n",
       "        }    #T_57e719cc_00e7_11eb_8acf_00f48da1d446row1_col4 {\n",
       "            background-color:  #9abbff;\n",
       "            color:  #000000;\n",
       "        }    #T_57e719cc_00e7_11eb_8acf_00f48da1d446row1_col5 {\n",
       "            background-color:  #3b4cc0;\n",
       "            color:  #f1f1f1;\n",
       "        }    #T_57e719cc_00e7_11eb_8acf_00f48da1d446row1_col6 {\n",
       "            background-color:  #3b4cc0;\n",
       "            color:  #f1f1f1;\n",
       "        }    #T_57e719cc_00e7_11eb_8acf_00f48da1d446row1_col7 {\n",
       "            background-color:  #adc9fd;\n",
       "            color:  #000000;\n",
       "        }    #T_57e719cc_00e7_11eb_8acf_00f48da1d446row1_col8 {\n",
       "            background-color:  #3b4cc0;\n",
       "            color:  #f1f1f1;\n",
       "        }    #T_57e719cc_00e7_11eb_8acf_00f48da1d446row1_col9 {\n",
       "            background-color:  #3b4cc0;\n",
       "            color:  #f1f1f1;\n",
       "        }    #T_57e719cc_00e7_11eb_8acf_00f48da1d446row2_col0 {\n",
       "            background-color:  #7a9df8;\n",
       "            color:  #000000;\n",
       "        }    #T_57e719cc_00e7_11eb_8acf_00f48da1d446row2_col1 {\n",
       "            background-color:  #6c8ff1;\n",
       "            color:  #000000;\n",
       "        }    #T_57e719cc_00e7_11eb_8acf_00f48da1d446row2_col2 {\n",
       "            background-color:  #b40426;\n",
       "            color:  #f1f1f1;\n",
       "        }    #T_57e719cc_00e7_11eb_8acf_00f48da1d446row2_col3 {\n",
       "            background-color:  #f2cbb7;\n",
       "            color:  #000000;\n",
       "        }    #T_57e719cc_00e7_11eb_8acf_00f48da1d446row2_col4 {\n",
       "            background-color:  #81a4fb;\n",
       "            color:  #000000;\n",
       "        }    #T_57e719cc_00e7_11eb_8acf_00f48da1d446row2_col5 {\n",
       "            background-color:  #6788ee;\n",
       "            color:  #000000;\n",
       "        }    #T_57e719cc_00e7_11eb_8acf_00f48da1d446row2_col6 {\n",
       "            background-color:  #4e68d8;\n",
       "            color:  #000000;\n",
       "        }    #T_57e719cc_00e7_11eb_8acf_00f48da1d446row2_col7 {\n",
       "            background-color:  #799cf8;\n",
       "            color:  #000000;\n",
       "        }    #T_57e719cc_00e7_11eb_8acf_00f48da1d446row2_col8 {\n",
       "            background-color:  #4a63d3;\n",
       "            color:  #f1f1f1;\n",
       "        }    #T_57e719cc_00e7_11eb_8acf_00f48da1d446row2_col9 {\n",
       "            background-color:  #4e68d8;\n",
       "            color:  #000000;\n",
       "        }    #T_57e719cc_00e7_11eb_8acf_00f48da1d446row3_col0 {\n",
       "            background-color:  #3d50c3;\n",
       "            color:  #f1f1f1;\n",
       "        }    #T_57e719cc_00e7_11eb_8acf_00f48da1d446row3_col1 {\n",
       "            background-color:  #4257c9;\n",
       "            color:  #f1f1f1;\n",
       "        }    #T_57e719cc_00e7_11eb_8acf_00f48da1d446row3_col2 {\n",
       "            background-color:  #d9dce1;\n",
       "            color:  #000000;\n",
       "        }    #T_57e719cc_00e7_11eb_8acf_00f48da1d446row3_col3 {\n",
       "            background-color:  #b40426;\n",
       "            color:  #f1f1f1;\n",
       "        }    #T_57e719cc_00e7_11eb_8acf_00f48da1d446row3_col4 {\n",
       "            background-color:  #3b4cc0;\n",
       "            color:  #f1f1f1;\n",
       "        }    #T_57e719cc_00e7_11eb_8acf_00f48da1d446row3_col5 {\n",
       "            background-color:  #6180e9;\n",
       "            color:  #000000;\n",
       "        }    #T_57e719cc_00e7_11eb_8acf_00f48da1d446row3_col6 {\n",
       "            background-color:  #445acc;\n",
       "            color:  #f1f1f1;\n",
       "        }    #T_57e719cc_00e7_11eb_8acf_00f48da1d446row3_col7 {\n",
       "            background-color:  #3b4cc0;\n",
       "            color:  #f1f1f1;\n",
       "        }    #T_57e719cc_00e7_11eb_8acf_00f48da1d446row3_col8 {\n",
       "            background-color:  #3e51c5;\n",
       "            color:  #f1f1f1;\n",
       "        }    #T_57e719cc_00e7_11eb_8acf_00f48da1d446row3_col9 {\n",
       "            background-color:  #7093f3;\n",
       "            color:  #000000;\n",
       "        }    #T_57e719cc_00e7_11eb_8acf_00f48da1d446row4_col0 {\n",
       "            background-color:  #88abfd;\n",
       "            color:  #000000;\n",
       "        }    #T_57e719cc_00e7_11eb_8acf_00f48da1d446row4_col1 {\n",
       "            background-color:  #485fd1;\n",
       "            color:  #f1f1f1;\n",
       "        }    #T_57e719cc_00e7_11eb_8acf_00f48da1d446row4_col2 {\n",
       "            background-color:  #3b4cc0;\n",
       "            color:  #f1f1f1;\n",
       "        }    #T_57e719cc_00e7_11eb_8acf_00f48da1d446row4_col3 {\n",
       "            background-color:  #3b4cc0;\n",
       "            color:  #f1f1f1;\n",
       "        }    #T_57e719cc_00e7_11eb_8acf_00f48da1d446row4_col4 {\n",
       "            background-color:  #b40426;\n",
       "            color:  #f1f1f1;\n",
       "        }    #T_57e719cc_00e7_11eb_8acf_00f48da1d446row4_col5 {\n",
       "            background-color:  #5572df;\n",
       "            color:  #000000;\n",
       "        }    #T_57e719cc_00e7_11eb_8acf_00f48da1d446row4_col6 {\n",
       "            background-color:  #688aef;\n",
       "            color:  #000000;\n",
       "        }    #T_57e719cc_00e7_11eb_8acf_00f48da1d446row4_col7 {\n",
       "            background-color:  #c4d5f3;\n",
       "            color:  #000000;\n",
       "        }    #T_57e719cc_00e7_11eb_8acf_00f48da1d446row4_col8 {\n",
       "            background-color:  #7a9df8;\n",
       "            color:  #000000;\n",
       "        }    #T_57e719cc_00e7_11eb_8acf_00f48da1d446row4_col9 {\n",
       "            background-color:  #4961d2;\n",
       "            color:  #f1f1f1;\n",
       "        }    #T_57e719cc_00e7_11eb_8acf_00f48da1d446row5_col0 {\n",
       "            background-color:  #6180e9;\n",
       "            color:  #000000;\n",
       "        }    #T_57e719cc_00e7_11eb_8acf_00f48da1d446row5_col1 {\n",
       "            background-color:  #445acc;\n",
       "            color:  #f1f1f1;\n",
       "        }    #T_57e719cc_00e7_11eb_8acf_00f48da1d446row5_col2 {\n",
       "            background-color:  #7da0f9;\n",
       "            color:  #000000;\n",
       "        }    #T_57e719cc_00e7_11eb_8acf_00f48da1d446row5_col3 {\n",
       "            background-color:  #b5cdfa;\n",
       "            color:  #000000;\n",
       "        }    #T_57e719cc_00e7_11eb_8acf_00f48da1d446row5_col4 {\n",
       "            background-color:  #abc8fd;\n",
       "            color:  #000000;\n",
       "        }    #T_57e719cc_00e7_11eb_8acf_00f48da1d446row5_col5 {\n",
       "            background-color:  #b40426;\n",
       "            color:  #f1f1f1;\n",
       "        }    #T_57e719cc_00e7_11eb_8acf_00f48da1d446row5_col6 {\n",
       "            background-color:  #3f53c6;\n",
       "            color:  #f1f1f1;\n",
       "        }    #T_57e719cc_00e7_11eb_8acf_00f48da1d446row5_col7 {\n",
       "            background-color:  #799cf8;\n",
       "            color:  #000000;\n",
       "        }    #T_57e719cc_00e7_11eb_8acf_00f48da1d446row5_col8 {\n",
       "            background-color:  #3d50c3;\n",
       "            color:  #f1f1f1;\n",
       "        }    #T_57e719cc_00e7_11eb_8acf_00f48da1d446row5_col9 {\n",
       "            background-color:  #6180e9;\n",
       "            color:  #000000;\n",
       "        }    #T_57e719cc_00e7_11eb_8acf_00f48da1d446row6_col0 {\n",
       "            background-color:  #6180e9;\n",
       "            color:  #000000;\n",
       "        }    #T_57e719cc_00e7_11eb_8acf_00f48da1d446row6_col1 {\n",
       "            background-color:  #4e68d8;\n",
       "            color:  #000000;\n",
       "        }    #T_57e719cc_00e7_11eb_8acf_00f48da1d446row6_col2 {\n",
       "            background-color:  #6e90f2;\n",
       "            color:  #000000;\n",
       "        }    #T_57e719cc_00e7_11eb_8acf_00f48da1d446row6_col3 {\n",
       "            background-color:  #a7c5fe;\n",
       "            color:  #000000;\n",
       "        }    #T_57e719cc_00e7_11eb_8acf_00f48da1d446row6_col4 {\n",
       "            background-color:  #c0d4f5;\n",
       "            color:  #000000;\n",
       "        }    #T_57e719cc_00e7_11eb_8acf_00f48da1d446row6_col5 {\n",
       "            background-color:  #4961d2;\n",
       "            color:  #f1f1f1;\n",
       "        }    #T_57e719cc_00e7_11eb_8acf_00f48da1d446row6_col6 {\n",
       "            background-color:  #b40426;\n",
       "            color:  #f1f1f1;\n",
       "        }    #T_57e719cc_00e7_11eb_8acf_00f48da1d446row6_col7 {\n",
       "            background-color:  #7b9ff9;\n",
       "            color:  #000000;\n",
       "        }    #T_57e719cc_00e7_11eb_8acf_00f48da1d446row6_col8 {\n",
       "            background-color:  #688aef;\n",
       "            color:  #000000;\n",
       "        }    #T_57e719cc_00e7_11eb_8acf_00f48da1d446row6_col9 {\n",
       "            background-color:  #6180e9;\n",
       "            color:  #000000;\n",
       "        }    #T_57e719cc_00e7_11eb_8acf_00f48da1d446row7_col0 {\n",
       "            background-color:  #96b7ff;\n",
       "            color:  #000000;\n",
       "        }    #T_57e719cc_00e7_11eb_8acf_00f48da1d446row7_col1 {\n",
       "            background-color:  #8caffe;\n",
       "            color:  #000000;\n",
       "        }    #T_57e719cc_00e7_11eb_8acf_00f48da1d446row7_col2 {\n",
       "            background-color:  #5f7fe8;\n",
       "            color:  #000000;\n",
       "        }    #T_57e719cc_00e7_11eb_8acf_00f48da1d446row7_col3 {\n",
       "            background-color:  #688aef;\n",
       "            color:  #000000;\n",
       "        }    #T_57e719cc_00e7_11eb_8acf_00f48da1d446row7_col4 {\n",
       "            background-color:  #dcdddd;\n",
       "            color:  #000000;\n",
       "        }    #T_57e719cc_00e7_11eb_8acf_00f48da1d446row7_col5 {\n",
       "            background-color:  #4961d2;\n",
       "            color:  #f1f1f1;\n",
       "        }    #T_57e719cc_00e7_11eb_8acf_00f48da1d446row7_col6 {\n",
       "            background-color:  #4257c9;\n",
       "            color:  #f1f1f1;\n",
       "        }    #T_57e719cc_00e7_11eb_8acf_00f48da1d446row7_col7 {\n",
       "            background-color:  #b40426;\n",
       "            color:  #f1f1f1;\n",
       "        }    #T_57e719cc_00e7_11eb_8acf_00f48da1d446row7_col8 {\n",
       "            background-color:  #445acc;\n",
       "            color:  #f1f1f1;\n",
       "        }    #T_57e719cc_00e7_11eb_8acf_00f48da1d446row7_col9 {\n",
       "            background-color:  #536edd;\n",
       "            color:  #000000;\n",
       "        }    #T_57e719cc_00e7_11eb_8acf_00f48da1d446row8_col0 {\n",
       "            background-color:  #5e7de7;\n",
       "            color:  #000000;\n",
       "        }    #T_57e719cc_00e7_11eb_8acf_00f48da1d446row8_col1 {\n",
       "            background-color:  #4961d2;\n",
       "            color:  #f1f1f1;\n",
       "        }    #T_57e719cc_00e7_11eb_8acf_00f48da1d446row8_col2 {\n",
       "            background-color:  #6687ed;\n",
       "            color:  #000000;\n",
       "        }    #T_57e719cc_00e7_11eb_8acf_00f48da1d446row8_col3 {\n",
       "            background-color:  #9ebeff;\n",
       "            color:  #000000;\n",
       "        }    #T_57e719cc_00e7_11eb_8acf_00f48da1d446row8_col4 {\n",
       "            background-color:  #cad8ef;\n",
       "            color:  #000000;\n",
       "        }    #T_57e719cc_00e7_11eb_8acf_00f48da1d446row8_col5 {\n",
       "            background-color:  #4358cb;\n",
       "            color:  #f1f1f1;\n",
       "        }    #T_57e719cc_00e7_11eb_8acf_00f48da1d446row8_col6 {\n",
       "            background-color:  #6384eb;\n",
       "            color:  #000000;\n",
       "        }    #T_57e719cc_00e7_11eb_8acf_00f48da1d446row8_col7 {\n",
       "            background-color:  #799cf8;\n",
       "            color:  #000000;\n",
       "        }    #T_57e719cc_00e7_11eb_8acf_00f48da1d446row8_col8 {\n",
       "            background-color:  #b40426;\n",
       "            color:  #f1f1f1;\n",
       "        }    #T_57e719cc_00e7_11eb_8acf_00f48da1d446row8_col9 {\n",
       "            background-color:  #5470de;\n",
       "            color:  #000000;\n",
       "        }    #T_57e719cc_00e7_11eb_8acf_00f48da1d446row9_col0 {\n",
       "            background-color:  #3b4cc0;\n",
       "            color:  #f1f1f1;\n",
       "        }    #T_57e719cc_00e7_11eb_8acf_00f48da1d446row9_col1 {\n",
       "            background-color:  #3b4cc0;\n",
       "            color:  #f1f1f1;\n",
       "        }    #T_57e719cc_00e7_11eb_8acf_00f48da1d446row9_col2 {\n",
       "            background-color:  #5a78e4;\n",
       "            color:  #000000;\n",
       "        }    #T_57e719cc_00e7_11eb_8acf_00f48da1d446row9_col3 {\n",
       "            background-color:  #bad0f8;\n",
       "            color:  #000000;\n",
       "        }    #T_57e719cc_00e7_11eb_8acf_00f48da1d446row9_col4 {\n",
       "            background-color:  #9abbff;\n",
       "            color:  #000000;\n",
       "        }    #T_57e719cc_00e7_11eb_8acf_00f48da1d446row9_col5 {\n",
       "            background-color:  #5673e0;\n",
       "            color:  #000000;\n",
       "        }    #T_57e719cc_00e7_11eb_8acf_00f48da1d446row9_col6 {\n",
       "            background-color:  #4e68d8;\n",
       "            color:  #000000;\n",
       "        }    #T_57e719cc_00e7_11eb_8acf_00f48da1d446row9_col7 {\n",
       "            background-color:  #799cf8;\n",
       "            color:  #000000;\n",
       "        }    #T_57e719cc_00e7_11eb_8acf_00f48da1d446row9_col8 {\n",
       "            background-color:  #455cce;\n",
       "            color:  #f1f1f1;\n",
       "        }    #T_57e719cc_00e7_11eb_8acf_00f48da1d446row9_col9 {\n",
       "            background-color:  #b40426;\n",
       "            color:  #f1f1f1;\n",
       "        }</style><table id=\"T_57e719cc_00e7_11eb_8acf_00f48da1d446\" ><thead>    <tr>        <th class=\"blank level0\" ></th>        <th class=\"col_heading level0 col0\" >SEVERITYCODE</th>        <th class=\"col_heading level0 col1\" >ADDRTYPE</th>        <th class=\"col_heading level0 col2\" >PERSONCOUNT</th>        <th class=\"col_heading level0 col3\" >VEHCOUNT</th>        <th class=\"col_heading level0 col4\" >SDOT_COLCODE</th>        <th class=\"col_heading level0 col5\" >INATTENTIONIND</th>        <th class=\"col_heading level0 col6\" >UNDERINFL</th>        <th class=\"col_heading level0 col7\" >PEDROWNOTGRNT</th>        <th class=\"col_heading level0 col8\" >SPEEDING</th>        <th class=\"col_heading level0 col9\" >HITPARKEDCAR</th>    </tr></thead><tbody>\n",
       "                <tr>\n",
       "                        <th id=\"T_57e719cc_00e7_11eb_8acf_00f48da1d446level0_row0\" class=\"row_heading level0 row0\" >SEVERITYCODE</th>\n",
       "                        <td id=\"T_57e719cc_00e7_11eb_8acf_00f48da1d446row0_col0\" class=\"data row0 col0\" >1</td>\n",
       "                        <td id=\"T_57e719cc_00e7_11eb_8acf_00f48da1d446row0_col1\" class=\"data row0 col1\" >0.2</td>\n",
       "                        <td id=\"T_57e719cc_00e7_11eb_8acf_00f48da1d446row0_col2\" class=\"data row0 col2\" >0.1</td>\n",
       "                        <td id=\"T_57e719cc_00e7_11eb_8acf_00f48da1d446row0_col3\" class=\"data row0 col3\" >-0.08</td>\n",
       "                        <td id=\"T_57e719cc_00e7_11eb_8acf_00f48da1d446row0_col4\" class=\"data row0 col4\" >0.2</td>\n",
       "                        <td id=\"T_57e719cc_00e7_11eb_8acf_00f48da1d446row0_col5\" class=\"data row0 col5\" >0.04</td>\n",
       "                        <td id=\"T_57e719cc_00e7_11eb_8acf_00f48da1d446row0_col6\" class=\"data row0 col6\" >0.04</td>\n",
       "                        <td id=\"T_57e719cc_00e7_11eb_8acf_00f48da1d446row0_col7\" class=\"data row0 col7\" >0.2</td>\n",
       "                        <td id=\"T_57e719cc_00e7_11eb_8acf_00f48da1d446row0_col8\" class=\"data row0 col8\" >0.04</td>\n",
       "                        <td id=\"T_57e719cc_00e7_11eb_8acf_00f48da1d446row0_col9\" class=\"data row0 col9\" >-0.09</td>\n",
       "            </tr>\n",
       "            <tr>\n",
       "                        <th id=\"T_57e719cc_00e7_11eb_8acf_00f48da1d446level0_row1\" class=\"row_heading level0 row1\" >ADDRTYPE</th>\n",
       "                        <td id=\"T_57e719cc_00e7_11eb_8acf_00f48da1d446row1_col0\" class=\"data row1 col0\" >0.2</td>\n",
       "                        <td id=\"T_57e719cc_00e7_11eb_8acf_00f48da1d446row1_col1\" class=\"data row1 col1\" >1</td>\n",
       "                        <td id=\"T_57e719cc_00e7_11eb_8acf_00f48da1d446row1_col2\" class=\"data row1 col2\" >0.06</td>\n",
       "                        <td id=\"T_57e719cc_00e7_11eb_8acf_00f48da1d446row1_col3\" class=\"data row1 col3\" >-0.09</td>\n",
       "                        <td id=\"T_57e719cc_00e7_11eb_8acf_00f48da1d446row1_col4\" class=\"data row1 col4\" >-0.07</td>\n",
       "                        <td id=\"T_57e719cc_00e7_11eb_8acf_00f48da1d446row1_col5\" class=\"data row1 col5\" >-0.08</td>\n",
       "                        <td id=\"T_57e719cc_00e7_11eb_8acf_00f48da1d446row1_col6\" class=\"data row1 col6\" >-0.05</td>\n",
       "                        <td id=\"T_57e719cc_00e7_11eb_8acf_00f48da1d446row1_col7\" class=\"data row1 col7\" >0.2</td>\n",
       "                        <td id=\"T_57e719cc_00e7_11eb_8acf_00f48da1d446row1_col8\" class=\"data row1 col8\" >-0.06</td>\n",
       "                        <td id=\"T_57e719cc_00e7_11eb_8acf_00f48da1d446row1_col9\" class=\"data row1 col9\" >-0.1</td>\n",
       "            </tr>\n",
       "            <tr>\n",
       "                        <th id=\"T_57e719cc_00e7_11eb_8acf_00f48da1d446level0_row2\" class=\"row_heading level0 row2\" >PERSONCOUNT</th>\n",
       "                        <td id=\"T_57e719cc_00e7_11eb_8acf_00f48da1d446row2_col0\" class=\"data row2 col0\" >0.1</td>\n",
       "                        <td id=\"T_57e719cc_00e7_11eb_8acf_00f48da1d446row2_col1\" class=\"data row2 col1\" >0.06</td>\n",
       "                        <td id=\"T_57e719cc_00e7_11eb_8acf_00f48da1d446row2_col2\" class=\"data row2 col2\" >1</td>\n",
       "                        <td id=\"T_57e719cc_00e7_11eb_8acf_00f48da1d446row2_col3\" class=\"data row2 col3\" >0.4</td>\n",
       "                        <td id=\"T_57e719cc_00e7_11eb_8acf_00f48da1d446row2_col4\" class=\"data row2 col4\" >-0.2</td>\n",
       "                        <td id=\"T_57e719cc_00e7_11eb_8acf_00f48da1d446row2_col5\" class=\"data row2 col5\" >0.07</td>\n",
       "                        <td id=\"T_57e719cc_00e7_11eb_8acf_00f48da1d446row2_col6\" class=\"data row2 col6\" >0.02</td>\n",
       "                        <td id=\"T_57e719cc_00e7_11eb_8acf_00f48da1d446row2_col7\" class=\"data row2 col7\" >-0.03</td>\n",
       "                        <td id=\"T_57e719cc_00e7_11eb_8acf_00f48da1d446row2_col8\" class=\"data row2 col8\" >-0.007</td>\n",
       "                        <td id=\"T_57e719cc_00e7_11eb_8acf_00f48da1d446row2_col9\" class=\"data row2 col9\" >-0.05</td>\n",
       "            </tr>\n",
       "            <tr>\n",
       "                        <th id=\"T_57e719cc_00e7_11eb_8acf_00f48da1d446level0_row3\" class=\"row_heading level0 row3\" >VEHCOUNT</th>\n",
       "                        <td id=\"T_57e719cc_00e7_11eb_8acf_00f48da1d446row3_col0\" class=\"data row3 col0\" >-0.08</td>\n",
       "                        <td id=\"T_57e719cc_00e7_11eb_8acf_00f48da1d446row3_col1\" class=\"data row3 col1\" >-0.09</td>\n",
       "                        <td id=\"T_57e719cc_00e7_11eb_8acf_00f48da1d446row3_col2\" class=\"data row3 col2\" >0.4</td>\n",
       "                        <td id=\"T_57e719cc_00e7_11eb_8acf_00f48da1d446row3_col3\" class=\"data row3 col3\" >1</td>\n",
       "                        <td id=\"T_57e719cc_00e7_11eb_8acf_00f48da1d446row3_col4\" class=\"data row3 col4\" >-0.5</td>\n",
       "                        <td id=\"T_57e719cc_00e7_11eb_8acf_00f48da1d446row3_col5\" class=\"data row3 col5\" >0.05</td>\n",
       "                        <td id=\"T_57e719cc_00e7_11eb_8acf_00f48da1d446row3_col6\" class=\"data row3 col6\" >-0.01</td>\n",
       "                        <td id=\"T_57e719cc_00e7_11eb_8acf_00f48da1d446row3_col7\" class=\"data row3 col7\" >-0.3</td>\n",
       "                        <td id=\"T_57e719cc_00e7_11eb_8acf_00f48da1d446row3_col8\" class=\"data row3 col8\" >-0.05</td>\n",
       "                        <td id=\"T_57e719cc_00e7_11eb_8acf_00f48da1d446row3_col9\" class=\"data row3 col9\" >0.07</td>\n",
       "            </tr>\n",
       "            <tr>\n",
       "                        <th id=\"T_57e719cc_00e7_11eb_8acf_00f48da1d446level0_row4\" class=\"row_heading level0 row4\" >SDOT_COLCODE</th>\n",
       "                        <td id=\"T_57e719cc_00e7_11eb_8acf_00f48da1d446row4_col0\" class=\"data row4 col0\" >0.2</td>\n",
       "                        <td id=\"T_57e719cc_00e7_11eb_8acf_00f48da1d446row4_col1\" class=\"data row4 col1\" >-0.07</td>\n",
       "                        <td id=\"T_57e719cc_00e7_11eb_8acf_00f48da1d446row4_col2\" class=\"data row4 col2\" >-0.2</td>\n",
       "                        <td id=\"T_57e719cc_00e7_11eb_8acf_00f48da1d446row4_col3\" class=\"data row4 col3\" >-0.5</td>\n",
       "                        <td id=\"T_57e719cc_00e7_11eb_8acf_00f48da1d446row4_col4\" class=\"data row4 col4\" >1</td>\n",
       "                        <td id=\"T_57e719cc_00e7_11eb_8acf_00f48da1d446row4_col5\" class=\"data row4 col5\" >0.01</td>\n",
       "                        <td id=\"T_57e719cc_00e7_11eb_8acf_00f48da1d446row4_col6\" class=\"data row4 col6\" >0.1</td>\n",
       "                        <td id=\"T_57e719cc_00e7_11eb_8acf_00f48da1d446row4_col7\" class=\"data row4 col7\" >0.3</td>\n",
       "                        <td id=\"T_57e719cc_00e7_11eb_8acf_00f48da1d446row4_col8\" class=\"data row4 col8\" >0.1</td>\n",
       "                        <td id=\"T_57e719cc_00e7_11eb_8acf_00f48da1d446row4_col9\" class=\"data row4 col9\" >-0.07</td>\n",
       "            </tr>\n",
       "            <tr>\n",
       "                        <th id=\"T_57e719cc_00e7_11eb_8acf_00f48da1d446level0_row5\" class=\"row_heading level0 row5\" >INATTENTIONIND</th>\n",
       "                        <td id=\"T_57e719cc_00e7_11eb_8acf_00f48da1d446row5_col0\" class=\"data row5 col0\" >0.04</td>\n",
       "                        <td id=\"T_57e719cc_00e7_11eb_8acf_00f48da1d446row5_col1\" class=\"data row5 col1\" >-0.08</td>\n",
       "                        <td id=\"T_57e719cc_00e7_11eb_8acf_00f48da1d446row5_col2\" class=\"data row5 col2\" >0.07</td>\n",
       "                        <td id=\"T_57e719cc_00e7_11eb_8acf_00f48da1d446row5_col3\" class=\"data row5 col3\" >0.05</td>\n",
       "                        <td id=\"T_57e719cc_00e7_11eb_8acf_00f48da1d446row5_col4\" class=\"data row5 col4\" >0.01</td>\n",
       "                        <td id=\"T_57e719cc_00e7_11eb_8acf_00f48da1d446row5_col5\" class=\"data row5 col5\" >1</td>\n",
       "                        <td id=\"T_57e719cc_00e7_11eb_8acf_00f48da1d446row5_col6\" class=\"data row5 col6\" >-0.03</td>\n",
       "                        <td id=\"T_57e719cc_00e7_11eb_8acf_00f48da1d446row5_col7\" class=\"data row5 col7\" >-0.03</td>\n",
       "                        <td id=\"T_57e719cc_00e7_11eb_8acf_00f48da1d446row5_col8\" class=\"data row5 col8\" >-0.05</td>\n",
       "                        <td id=\"T_57e719cc_00e7_11eb_8acf_00f48da1d446row5_col9\" class=\"data row5 col9\" >0.02</td>\n",
       "            </tr>\n",
       "            <tr>\n",
       "                        <th id=\"T_57e719cc_00e7_11eb_8acf_00f48da1d446level0_row6\" class=\"row_heading level0 row6\" >UNDERINFL</th>\n",
       "                        <td id=\"T_57e719cc_00e7_11eb_8acf_00f48da1d446row6_col0\" class=\"data row6 col0\" >0.04</td>\n",
       "                        <td id=\"T_57e719cc_00e7_11eb_8acf_00f48da1d446row6_col1\" class=\"data row6 col1\" >-0.05</td>\n",
       "                        <td id=\"T_57e719cc_00e7_11eb_8acf_00f48da1d446row6_col2\" class=\"data row6 col2\" >0.02</td>\n",
       "                        <td id=\"T_57e719cc_00e7_11eb_8acf_00f48da1d446row6_col3\" class=\"data row6 col3\" >-0.01</td>\n",
       "                        <td id=\"T_57e719cc_00e7_11eb_8acf_00f48da1d446row6_col4\" class=\"data row6 col4\" >0.1</td>\n",
       "                        <td id=\"T_57e719cc_00e7_11eb_8acf_00f48da1d446row6_col5\" class=\"data row6 col5\" >-0.03</td>\n",
       "                        <td id=\"T_57e719cc_00e7_11eb_8acf_00f48da1d446row6_col6\" class=\"data row6 col6\" >1</td>\n",
       "                        <td id=\"T_57e719cc_00e7_11eb_8acf_00f48da1d446row6_col7\" class=\"data row6 col7\" >-0.02</td>\n",
       "                        <td id=\"T_57e719cc_00e7_11eb_8acf_00f48da1d446row6_col8\" class=\"data row6 col8\" >0.09</td>\n",
       "                        <td id=\"T_57e719cc_00e7_11eb_8acf_00f48da1d446row6_col9\" class=\"data row6 col9\" >0.02</td>\n",
       "            </tr>\n",
       "            <tr>\n",
       "                        <th id=\"T_57e719cc_00e7_11eb_8acf_00f48da1d446level0_row7\" class=\"row_heading level0 row7\" >PEDROWNOTGRNT</th>\n",
       "                        <td id=\"T_57e719cc_00e7_11eb_8acf_00f48da1d446row7_col0\" class=\"data row7 col0\" >0.2</td>\n",
       "                        <td id=\"T_57e719cc_00e7_11eb_8acf_00f48da1d446row7_col1\" class=\"data row7 col1\" >0.2</td>\n",
       "                        <td id=\"T_57e719cc_00e7_11eb_8acf_00f48da1d446row7_col2\" class=\"data row7 col2\" >-0.03</td>\n",
       "                        <td id=\"T_57e719cc_00e7_11eb_8acf_00f48da1d446row7_col3\" class=\"data row7 col3\" >-0.3</td>\n",
       "                        <td id=\"T_57e719cc_00e7_11eb_8acf_00f48da1d446row7_col4\" class=\"data row7 col4\" >0.3</td>\n",
       "                        <td id=\"T_57e719cc_00e7_11eb_8acf_00f48da1d446row7_col5\" class=\"data row7 col5\" >-0.03</td>\n",
       "                        <td id=\"T_57e719cc_00e7_11eb_8acf_00f48da1d446row7_col6\" class=\"data row7 col6\" >-0.02</td>\n",
       "                        <td id=\"T_57e719cc_00e7_11eb_8acf_00f48da1d446row7_col7\" class=\"data row7 col7\" >1</td>\n",
       "                        <td id=\"T_57e719cc_00e7_11eb_8acf_00f48da1d446row7_col8\" class=\"data row7 col8\" >-0.03</td>\n",
       "                        <td id=\"T_57e719cc_00e7_11eb_8acf_00f48da1d446row7_col9\" class=\"data row7 col9\" >-0.03</td>\n",
       "            </tr>\n",
       "            <tr>\n",
       "                        <th id=\"T_57e719cc_00e7_11eb_8acf_00f48da1d446level0_row8\" class=\"row_heading level0 row8\" >SPEEDING</th>\n",
       "                        <td id=\"T_57e719cc_00e7_11eb_8acf_00f48da1d446row8_col0\" class=\"data row8 col0\" >0.04</td>\n",
       "                        <td id=\"T_57e719cc_00e7_11eb_8acf_00f48da1d446row8_col1\" class=\"data row8 col1\" >-0.06</td>\n",
       "                        <td id=\"T_57e719cc_00e7_11eb_8acf_00f48da1d446row8_col2\" class=\"data row8 col2\" >-0.007</td>\n",
       "                        <td id=\"T_57e719cc_00e7_11eb_8acf_00f48da1d446row8_col3\" class=\"data row8 col3\" >-0.05</td>\n",
       "                        <td id=\"T_57e719cc_00e7_11eb_8acf_00f48da1d446row8_col4\" class=\"data row8 col4\" >0.1</td>\n",
       "                        <td id=\"T_57e719cc_00e7_11eb_8acf_00f48da1d446row8_col5\" class=\"data row8 col5\" >-0.05</td>\n",
       "                        <td id=\"T_57e719cc_00e7_11eb_8acf_00f48da1d446row8_col6\" class=\"data row8 col6\" >0.09</td>\n",
       "                        <td id=\"T_57e719cc_00e7_11eb_8acf_00f48da1d446row8_col7\" class=\"data row8 col7\" >-0.03</td>\n",
       "                        <td id=\"T_57e719cc_00e7_11eb_8acf_00f48da1d446row8_col8\" class=\"data row8 col8\" >1</td>\n",
       "                        <td id=\"T_57e719cc_00e7_11eb_8acf_00f48da1d446row8_col9\" class=\"data row8 col9\" >-0.02</td>\n",
       "            </tr>\n",
       "            <tr>\n",
       "                        <th id=\"T_57e719cc_00e7_11eb_8acf_00f48da1d446level0_row9\" class=\"row_heading level0 row9\" >HITPARKEDCAR</th>\n",
       "                        <td id=\"T_57e719cc_00e7_11eb_8acf_00f48da1d446row9_col0\" class=\"data row9 col0\" >-0.09</td>\n",
       "                        <td id=\"T_57e719cc_00e7_11eb_8acf_00f48da1d446row9_col1\" class=\"data row9 col1\" >-0.1</td>\n",
       "                        <td id=\"T_57e719cc_00e7_11eb_8acf_00f48da1d446row9_col2\" class=\"data row9 col2\" >-0.05</td>\n",
       "                        <td id=\"T_57e719cc_00e7_11eb_8acf_00f48da1d446row9_col3\" class=\"data row9 col3\" >0.07</td>\n",
       "                        <td id=\"T_57e719cc_00e7_11eb_8acf_00f48da1d446row9_col4\" class=\"data row9 col4\" >-0.07</td>\n",
       "                        <td id=\"T_57e719cc_00e7_11eb_8acf_00f48da1d446row9_col5\" class=\"data row9 col5\" >0.02</td>\n",
       "                        <td id=\"T_57e719cc_00e7_11eb_8acf_00f48da1d446row9_col6\" class=\"data row9 col6\" >0.02</td>\n",
       "                        <td id=\"T_57e719cc_00e7_11eb_8acf_00f48da1d446row9_col7\" class=\"data row9 col7\" >-0.03</td>\n",
       "                        <td id=\"T_57e719cc_00e7_11eb_8acf_00f48da1d446row9_col8\" class=\"data row9 col8\" >-0.02</td>\n",
       "                        <td id=\"T_57e719cc_00e7_11eb_8acf_00f48da1d446row9_col9\" class=\"data row9 col9\" >1</td>\n",
       "            </tr>\n",
       "    </tbody></table>"
      ],
      "text/plain": [
       "<pandas.io.formats.style.Styler at 0x17f151f99e8>"
      ]
     },
     "execution_count": 34,
     "metadata": {},
     "output_type": "execute_result"
    }
   ],
   "source": [
    "#plotting correlation matrix\n",
    "\n",
    "rs = np.random.RandomState(0)\n",
    "corr = inputDF2.corr()\n",
    "corr.style.background_gradient(cmap='coolwarm').set_precision(1)"
   ]
  },
  {
   "cell_type": "markdown",
   "metadata": {},
   "source": [
    "# Distribution analysis for feature variables"
   ]
  },
  {
   "cell_type": "code",
   "execution_count": 36,
   "metadata": {},
   "outputs": [
    {
     "data": {
      "image/png": "[encoded data removed]",
      "text/plain": [
       "<Figure size 1440x720 with 1 Axes>"
      ]
     },
     "metadata": {
      "needs_background": "light"
     },
     "output_type": "display_data"
    }
   ],
   "source": [
    "figsize=(20,10)\n",
    "fig, ax = plt.subplots(figsize=figsize)\n",
    "ax = sns.countplot(x=\"WEATHER\", hue=\"SEVERITYCODE\", data=inputDF2)"
   ]
  },
  {
   "cell_type": "code",
   "execution_count": 37,
   "metadata": {},
   "outputs": [
    {
     "data": {
      "image/png": "[encoded data removed]",
      "text/plain": [
       "<Figure size 720x576 with 1 Axes>"
      ]
     },
     "metadata": {
      "needs_background": "light"
     },
     "output_type": "display_data"
    }
   ],
   "source": [
    "figsize=(10,8)\n",
    "fig, ax = plt.subplots(figsize=figsize)\n",
    "ax = sns.countplot(x=\"ROADCOND\", hue=\"SEVERITYCODE\", data=inputDF2)"
   ]
  },
  {
   "cell_type": "code",
   "execution_count": 38,
   "metadata": {},
   "outputs": [
    {
     "data": {
      "image/png": "[encoded data removed]",
      "text/plain": [
       "<Figure size 1440x720 with 1 Axes>"
      ]
     },
     "metadata": {
      "needs_background": "light"
     },
     "output_type": "display_data"
    }
   ],
   "source": [
    "figsize=(20,10)\n",
    "fig, ax = plt.subplots(figsize=figsize)\n",
    "ax = sns.countplot(x=\"LIGHTCOND\", hue=\"SEVERITYCODE\", data=inputDF2)"
   ]
  },
  {
   "cell_type": "code",
   "execution_count": 39,
   "metadata": {},
   "outputs": [
    {
     "data": {
      "image/png": "[encoded data removed]",
      "text/plain": [
       "<Figure size 1440x720 with 1 Axes>"
      ]
     },
     "metadata": {
      "needs_background": "light"
     },
     "output_type": "display_data"
    }
   ],
   "source": [
    "figsize=(20,10)\n",
    "fig, ax = plt.subplots(figsize=figsize)\n",
    "ax = sns.countplot(x=\"COLLISIONTYPE\", hue=\"SEVERITYCODE\", data=inputDF2)"
   ]
  },
  {
   "cell_type": "code",
   "execution_count": 40,
   "metadata": {},
   "outputs": [
    {
     "data": {
      "image/png": "[encoded data removed]",
      "text/plain": [
       "<Figure size 576x360 with 1 Axes>"
      ]
     },
     "metadata": {
      "needs_background": "light"
     },
     "output_type": "display_data"
    }
   ],
   "source": [
    "figsize=(8,5)\n",
    "fig, ax = plt.subplots(figsize=figsize)\n",
    "ax = sns.countplot(x=\"ADDRTYPE\", hue=\"SEVERITYCODE\", data=inputDF2)"
   ]
  },
  {
   "cell_type": "code",
   "execution_count": 41,
   "metadata": {},
   "outputs": [
    {
     "data": {
      "image/png": "[encoded data removed]",
      "text/plain": [
       "<Figure size 1800x720 with 1 Axes>"
      ]
     },
     "metadata": {
      "needs_background": "light"
     },
     "output_type": "display_data"
    }
   ],
   "source": [
    "figsize=(25,10)\n",
    "fig, ax = plt.subplots(figsize=figsize)\n",
    "ax = sns.countplot(x=\"JUNCTIONTYPE\", hue=\"SEVERITYCODE\", data=inputDF2)"
   ]
  },
  {
   "cell_type": "code",
   "execution_count": 42,
   "metadata": {},
   "outputs": [
    {
     "data": {
      "text/plain": [
       "<matplotlib.axes._subplots.AxesSubplot at 0x17f19ec7048>"
      ]
     },
     "execution_count": 42,
     "metadata": {},
     "output_type": "execute_result"
    },
    {
     "data": {
      "image/png": "[encoded data removed]",
      "text/plain": [
       "<Figure size 1080x432 with 3 Axes>"
      ]
     },
     "metadata": {
      "needs_background": "light"
     },
     "output_type": "display_data"
    }
   ],
   "source": [
    "figsize=(15,6)\n",
    "fig, ax = plt.subplots(figsize=figsize,ncols=3)\n",
    "sns.countplot(x=\"SPEEDING\", hue=\"SEVERITYCODE\", data=inputDF2,ax=ax[0])\n",
    "sns.countplot(x=\"UNDERINFL\", hue=\"SEVERITYCODE\", data=inputDF2,ax=ax[1])\n",
    "sns.countplot(x=\"INATTENTIONIND\", hue=\"SEVERITYCODE\", data=inputDF2,ax=ax[2])"
   ]
  },
  {
   "cell_type": "code",
   "execution_count": 43,
   "metadata": {},
   "outputs": [
    {
     "data": {
      "text/plain": [
       "Mid-Block (not related to intersection)              86434\n",
       "At Intersection (intersection related)               61206\n",
       "Mid-Block (but intersection related)                 22341\n",
       "Driveway Junction                                    10460\n",
       "At Intersection (but not related to intersection)     2054\n",
       "Ramp Junction                                          160\n",
       "Unknown                                                  5\n",
       "Name: JUNCTIONTYPE, dtype: int64"
      ]
     },
     "execution_count": 43,
     "metadata": {},
     "output_type": "execute_result"
    }
   ],
   "source": [
    "inputDF2[\"JUNCTIONTYPE\"].value_counts()"
   ]
  },
  {
   "cell_type": "markdown",
   "metadata": {},
   "source": [
    "## after analysis, multi categorical features does include some noise."
   ]
  },
  {
   "cell_type": "code",
   "execution_count": 44,
   "metadata": {},
   "outputs": [],
   "source": [
    "inputDF2[\"WEATHER\"]= inputDF2[\"WEATHER\"].apply(lambda x: \"OVERCAST\" if x == \"Overcast\" else (\"RAINING\" if x == \"Raining\" else\n",
    "                                                                (\"CLEAR\" if x == \"Clear\" else (\"UNKNOWN\" if x ==\"Unknown\" else\n",
    "                                                                                              \"UNRELATED\" ))))"
   ]
  },
  {
   "cell_type": "code",
   "execution_count": 45,
   "metadata": {},
   "outputs": [],
   "source": [
    "inputDF2[\"ROADCOND\"]= inputDF2[\"ROADCOND\"].apply(lambda x: \"DRY\" if x == \"Dry\" else (\"WET\" if x == \"Wet\" else\n",
    "                                                                 (\"UNKNOWN\" if x ==\"Unknown\" else\n",
    "                                                                                              \"UNRELATED\" )))"
   ]
  },
  {
   "cell_type": "code",
   "execution_count": 46,
   "metadata": {},
   "outputs": [],
   "source": [
    "inputDF2[\"LIGHTCOND\"]= inputDF2[\"LIGHTCOND\"].apply(lambda x: \"DAYLIGHT\" if x == \"Daylight\" else (\"DARK-STREET-LIGHTS-ON\" if x == \"Dark - Street Lights On\" else\n",
    "                                                                (\"UNKNOWN\" if x == \"Unknown\" else (\"DUSK\" if x ==\"Dusk\" else\n",
    "                                                                                              \"UNRELATED\" ))))"
   ]
  },
  {
   "cell_type": "code",
   "execution_count": 47,
   "metadata": {},
   "outputs": [],
   "source": [
    "inputDF2[\"JUNCTIONTYPE\"]= inputDF2[\"JUNCTIONTYPE\"].apply(lambda x: \"MID-BLOCK-UNRELATED\" if x == \"Mid-Block (not related to intersection)\" else (\"INTERSECTION-RELATED\" if x == \"At Intersection (intersection related)\" else\n",
    "                                                                (\"MID-BLOCK-RELATED\" if x == \"Mid-Block (but intersection related)\" else (\"DRIVEWAY\" if x ==\"Driveway Junction\" else\n",
    "                                                                                              \"UNRELATED\" ))))"
   ]
  },
  {
   "cell_type": "code",
   "execution_count": 48,
   "metadata": {},
   "outputs": [
    {
     "data": {
      "text/plain": [
       "Index(['SEVERITYCODE', 'ADDRTYPE', 'COLLISIONTYPE', 'PERSONCOUNT', 'VEHCOUNT',\n",
       "       'JUNCTIONTYPE', 'SDOT_COLCODE', 'INATTENTIONIND', 'UNDERINFL',\n",
       "       'WEATHER', 'ROADCOND', 'LIGHTCOND', 'PEDROWNOTGRNT', 'SPEEDING',\n",
       "       'HITPARKEDCAR'],\n",
       "      dtype='object')"
      ]
     },
     "execution_count": 48,
     "metadata": {},
     "output_type": "execute_result"
    }
   ],
   "source": [
    "inputDF2.columns"
   ]
  },
  {
   "cell_type": "markdown",
   "metadata": {},
   "source": [
    "## one hot encoding for categorical features"
   ]
  },
  {
   "cell_type": "code",
   "execution_count": 49,
   "metadata": {},
   "outputs": [],
   "source": [
    "#ONE HOT ENCODING\n",
    "inputDF2 = pd.get_dummies(inputDF2,columns=['WEATHER','ROADCOND','LIGHTCOND','COLLISIONTYPE','JUNCTIONTYPE'])"
   ]
  },
  {
   "cell_type": "code",
   "execution_count": 50,
   "metadata": {},
   "outputs": [],
   "source": [
    "#remove the unrelated ones\n",
    "inputDF2.drop(columns=[\"JUNCTIONTYPE_UNRELATED\",\"LIGHTCOND_UNRELATED\",\"ROADCOND_UNRELATED\",\"WEATHER_UNRELATED\"],axis=1,inplace=True)"
   ]
  },
  {
   "cell_type": "markdown",
   "metadata": {},
   "source": [
    "### we have slightly imbalanced data, few records for severity \"2\", model can be biased"
   ]
  },
  {
   "cell_type": "code",
   "execution_count": 51,
   "metadata": {},
   "outputs": [],
   "source": [
    "#split data into train and test\n",
    "X = inputDF2.loc[:, inputDF2.columns != 'SEVERITYCODE']\n",
    "y = inputDF2[\"SEVERITYCODE\"]"
   ]
  },
  {
   "cell_type": "code",
   "execution_count": 52,
   "metadata": {},
   "outputs": [],
   "source": [
    "X_train, X_test, y_train, y_test = train_test_split(X, y, test_size=0.2, random_state=1, stratify=y)"
   ]
  },
  {
   "cell_type": "markdown",
   "metadata": {},
   "source": [
    "# Decision Tree Classification"
   ]
  },
  {
   "cell_type": "code",
   "execution_count": 123,
   "metadata": {},
   "outputs": [],
   "source": [
    "def get_best_decisionTree(X_train, X_test,y_train, y_test):\n",
    "    accuracyDict={}\n",
    "    for i in range(3,20):\n",
    "        decisionTreeModel = DecisionTreeClassifier(max_depth=i)\n",
    "        decisionTreeModel = decisionTreeModel.fit(X_train,y_train)\n",
    "        y_pred = decisionTreeModel.predict(X_test)\n",
    "        accuracyDict[i]=metrics.accuracy_score(y_test,y_pred)\n",
    "        #accuracyDict[i]=metrics.f1_score(y_test,y_pred)\n",
    "    best_n = max(accuracyDict, key= lambda x: accuracyDict[x])\n",
    "    print(\"optimum max depth is\",best_n)\n",
    "    print(\"accuracy on test data is\", accuracyDict[best_n])\n",
    "    return DecisionTreeClassifier(max_depth=best_n).fit(X_train,y_train)\n",
    "        \n",
    "        \n",
    "    "
   ]
  },
  {
   "cell_type": "code",
   "execution_count": 124,
   "metadata": {},
   "outputs": [
    {
     "name": "stdout",
     "output_type": "stream",
     "text": [
      "optimum max depth is 9\n",
      "accuracy on test data is 0.7476458994853826\n"
     ]
    }
   ],
   "source": [
    "bestDecisionTreeModel = get_best_decisionTree(X_train, X_test,y_train, y_test)"
   ]
  },
  {
   "cell_type": "code",
   "execution_count": 125,
   "metadata": {},
   "outputs": [],
   "source": [
    "#f1_score\n",
    "\n",
    "y_pred = bestDecisionTreeModel.predict(X_test)\n",
    "decisionTreeF1=metrics.f1_score(y_test,y_pred)\n",
    "decisionTreeAcc = metrics.accuracy_score(y_test,y_pred)\n"
   ]
  },
  {
   "cell_type": "code",
   "execution_count": 126,
   "metadata": {},
   "outputs": [
    {
     "name": "stdout",
     "output_type": "stream",
     "text": [
      "0.44138683476785057\n"
     ]
    }
   ],
   "source": [
    "print(decisionTreeF1)"
   ]
  },
  {
   "cell_type": "code",
   "execution_count": 127,
   "metadata": {},
   "outputs": [],
   "source": [
    "def get_confusion_matrix(cm,labels=[1,0]):\n",
    "    fig = plt.figure()\n",
    "    ax = fig.add_subplot(111)\n",
    "    cax = ax.matshow(cm)\n",
    "    plt.title('Confusion matrix of the classifier')\n",
    "    fig.colorbar(cax)\n",
    "    ax.set_xticklabels([''] + labels)\n",
    "    ax.set_yticklabels([''] + labels)\n",
    "    plt.xlabel('Predicted')\n",
    "    plt.ylabel('True')\n",
    "    plt.show()"
   ]
  },
  {
   "cell_type": "code",
   "execution_count": 128,
   "metadata": {},
   "outputs": [],
   "source": [
    "cm_decisionTree=metrics.confusion_matrix(y_test,y_pred,labels=[1,0])"
   ]
  },
  {
   "cell_type": "code",
   "execution_count": 142,
   "metadata": {},
   "outputs": [
    {
     "data": {
      "image/png": "[encoded data removed]",
      "text/plain": [
       "<Figure size 648x432 with 2 Axes>"
      ]
     },
     "metadata": {},
     "output_type": "display_data"
    }
   ],
   "source": [
    "plot_confusion_matrix(cm_decisionTree,[1,0])"
   ]
  },
  {
   "cell_type": "markdown",
   "metadata": {},
   "source": [
    "# KNN Classifier"
   ]
  },
  {
   "cell_type": "code",
   "execution_count": 66,
   "metadata": {},
   "outputs": [],
   "source": [
    "def get_best_KNN(X_train, X_test,y_train, y_test):\n",
    "    accuracyDict={}\n",
    "    for i in range(3,20):\n",
    "        knnModel = KNeighborsClassifier(n_neighbors=i)\n",
    "        knnModel =knnModel.fit(X_train,y_train)\n",
    "        y_pred = knnModel.predict(X_test)\n",
    "        accuracyDict[i]=metrics.accuracy_score(y_test,y_pred)\n",
    "        #accuracyDict[i]=metrics.f1_score(y_test,y_pred)\n",
    "    best_n = max(accuracyDict, key= lambda x: accuracyDict[x])\n",
    "    print(\"optimum max depth is\",best_n)\n",
    "    print(\"accuracy on test data is\", accuracyDict[best_n])\n",
    "    return KNeighborsClassifier(n_neighbors=best_n).fit(X_train,y_train)"
   ]
  },
  {
   "cell_type": "code",
   "execution_count": 212,
   "metadata": {},
   "outputs": [
    {
     "name": "stdout",
     "output_type": "stream",
     "text": [
      "optimum max depth is 10\n",
      "accuracy on test data is 0.7392423081134348\n"
     ]
    }
   ],
   "source": [
    "bestKNNModel = get_best_KNN(X_train, X_test,y_train, y_test)"
   ]
  },
  {
   "cell_type": "code",
   "execution_count": 213,
   "metadata": {},
   "outputs": [
    {
     "data": {
      "text/plain": [
       "0.4612600384571881"
      ]
     },
     "execution_count": 213,
     "metadata": {},
     "output_type": "execute_result"
    }
   ],
   "source": [
    "#f1_score\n",
    "y_pred = bestKNNModel.predict(X_test)\n",
    "metrics.f1_score(y_test,y_pred)"
   ]
  },
  {
   "cell_type": "code",
   "execution_count": 232,
   "metadata": {},
   "outputs": [],
   "source": [
    "labels=[1,0]\n",
    "knn_confusion=metrics.confusion_matrix(y_test,y_pred,labels=[1,0])"
   ]
  },
  {
   "cell_type": "code",
   "execution_count": 237,
   "metadata": {},
   "outputs": [
    {
     "data": {
      "image/png": "[encoded data removed]",
      "text/plain": [
       "<Figure size 432x288 with 2 Axes>"
      ]
     },
     "metadata": {
      "needs_background": "light"
     },
     "output_type": "display_data"
    }
   ],
   "source": [
    "get_confusion_matrix(knn_confusion)"
   ]
  },
  {
   "cell_type": "code",
   "execution_count": null,
   "metadata": {},
   "outputs": [
    {
     "name": "stderr",
     "output_type": "stream",
     "text": [
      "e:\\pycharmprojects\\myprojects\\venv\\lib\\site-packages\\sklearn\\svm\\base.py:193: FutureWarning: The default value of gamma will change from 'auto' to 'scale' in version 0.22 to account better for unscaled features. Set gamma explicitly to 'auto' or 'scale' to avoid this warning.\n",
      "  \"avoid this warning.\", FutureWarning)\n"
     ]
    }
   ],
   "source": [
    "# from sklearn.svm import SVC\n",
    "# svclassifier = SVC(kernel='poly')\n",
    "# svclassifier.fit(X_train, y_train)"
   ]
  },
  {
   "cell_type": "code",
   "execution_count": 73,
   "metadata": {},
   "outputs": [
    {
     "name": "stderr",
     "output_type": "stream",
     "text": [
      "e:\\pycharmprojects\\myprojects\\venv\\lib\\site-packages\\sklearn\\linear_model\\logistic.py:432: FutureWarning: Default solver will be changed to 'lbfgs' in 0.22. Specify a solver to silence this warning.\n",
      "  FutureWarning)\n"
     ]
    }
   ],
   "source": [
    "lrModel = LogisticRegression()\n",
    "lrModel.fit(X_train,y_train)\n",
    "y_pred=lrModel.predict(X_test)"
   ]
  },
  {
   "cell_type": "code",
   "execution_count": 70,
   "metadata": {},
   "outputs": [
    {
     "data": {
      "text/plain": [
       "0.7470436877258294"
      ]
     },
     "execution_count": 70,
     "metadata": {},
     "output_type": "execute_result"
    }
   ],
   "source": [
    "metrics.accuracy_score(y_test,y_pred)"
   ]
  },
  {
   "cell_type": "code",
   "execution_count": 71,
   "metadata": {},
   "outputs": [
    {
     "data": {
      "text/plain": [
       "0.41796309126409276"
      ]
     },
     "execution_count": 71,
     "metadata": {},
     "output_type": "execute_result"
    }
   ],
   "source": [
    "metrics.f1_score(y_test,y_pred)"
   ]
  },
  {
   "cell_type": "code",
   "execution_count": 74,
   "metadata": {},
   "outputs": [
    {
     "data": {
      "text/plain": [
       "0.4926479478447402"
      ]
     },
     "execution_count": 74,
     "metadata": {},
     "output_type": "execute_result"
    }
   ],
   "source": [
    "#log loss\n",
    "y_pred_prob = lrModel.predict_proba(X_test)\n",
    "metrics.log_loss(y_test,y_pred_prob)"
   ]
  },
  {
   "cell_type": "markdown",
   "metadata": {},
   "source": [
    "# All classifiers give almost same accuracy, the issue is it is not at all predicting sevee accidents accurately"
   ]
  },
  {
   "cell_type": "markdown",
   "metadata": {},
   "source": [
    "# it is clear none of our model is working as f1_score is very less. Let's see if xgboost can save us"
   ]
  },
  {
   "cell_type": "code",
   "execution_count": 75,
   "metadata": {},
   "outputs": [],
   "source": [
    "xgbModel = XGBClassifier()"
   ]
  },
  {
   "cell_type": "code",
   "execution_count": 76,
   "metadata": {},
   "outputs": [],
   "source": [
    "hyperParams = {\n",
    "    \"learning_rate\":[0.05,0.10,0.15,0.20,0.25,0.30],\n",
    "    \"max_depth\" : [3,4,5,6,8,10,12,15,20],\n",
    "    \"min_child_weight\": [1,3,5,7],\n",
    "    \"gamma\":[0.1,0.2,0.3,0.4],\n",
    "    \"colsample_bytree\":[0.3,0.4,0.5,0.7],\n",
    "    \"scale_pos_weight\":[2,2.2,2.5,2.7,2.9,3]\n",
    "}"
   ]
  },
  {
   "cell_type": "code",
   "execution_count": 79,
   "metadata": {},
   "outputs": [],
   "source": [
    "random_search = RandomizedSearchCV(xgbModel,param_distributions=hyperParams,n_iter=5,n_jobs=-1,cv=5,verbose=3,scoring='f1')"
   ]
  },
  {
   "cell_type": "code",
   "execution_count": 80,
   "metadata": {},
   "outputs": [
    {
     "name": "stdout",
     "output_type": "stream",
     "text": [
      "2\n"
     ]
    }
   ],
   "source": [
    "weight = int(y_train.value_counts()[0]/y_train.value_counts()[1])\n",
    "print(weight)"
   ]
  },
  {
   "cell_type": "code",
   "execution_count": 81,
   "metadata": {},
   "outputs": [
    {
     "name": "stdout",
     "output_type": "stream",
     "text": [
      "Fitting 5 folds for each of 5 candidates, totalling 25 fits\n"
     ]
    },
    {
     "name": "stderr",
     "output_type": "stream",
     "text": [
      "[Parallel(n_jobs=-1)]: Using backend LokyBackend with 8 concurrent workers.\n",
      "[Parallel(n_jobs=-1)]: Done  19 out of  25 | elapsed:  2.5min remaining:   47.3s\n",
      "[Parallel(n_jobs=-1)]: Done  25 out of  25 | elapsed:  2.7min finished\n"
     ]
    },
    {
     "data": {
      "text/plain": [
       "RandomizedSearchCV(cv=5, error_score='raise-deprecating',\n",
       "                   estimator=XGBClassifier(base_score=None, booster=None,\n",
       "                                           colsample_bylevel=None,\n",
       "                                           colsample_bynode=None,\n",
       "                                           colsample_bytree=None, gamma=None,\n",
       "                                           gpu_id=None, importance_type='gain',\n",
       "                                           interaction_constraints=None,\n",
       "                                           learning_rate=None,\n",
       "                                           max_delta_step=None, max_depth=None,\n",
       "                                           min_child_weight=None, missing=nan,\n",
       "                                           monotone_co...\n",
       "                   iid='warn', n_iter=5, n_jobs=-1,\n",
       "                   param_distributions={'colsample_bytree': [0.3, 0.4, 0.5,\n",
       "                                                             0.7],\n",
       "                                        'gamma': [0.1, 0.2, 0.3, 0.4],\n",
       "                                        'learning_rate': [0.05, 0.1, 0.15, 0.2,\n",
       "                                                          0.25, 0.3],\n",
       "                                        'max_depth': [3, 4, 5, 6, 8, 10, 12, 15,\n",
       "                                                      20],\n",
       "                                        'min_child_weight': [1, 3, 5, 7],\n",
       "                                        'scale_pos_weight': [2, 2.2, 2.5, 2.7,\n",
       "                                                             2.9, 3]},\n",
       "                   pre_dispatch='2*n_jobs', random_state=None, refit=True,\n",
       "                   return_train_score=False, scoring='f1', verbose=3)"
      ]
     },
     "execution_count": 81,
     "metadata": {},
     "output_type": "execute_result"
    }
   ],
   "source": [
    "random_search.fit(X_train, y_train)"
   ]
  },
  {
   "cell_type": "code",
   "execution_count": 82,
   "metadata": {},
   "outputs": [
    {
     "data": {
      "text/plain": [
       "XGBClassifier(base_score=0.5, booster='gbtree', colsample_bylevel=1,\n",
       "              colsample_bynode=1, colsample_bytree=0.4, gamma=0.4, gpu_id=-1,\n",
       "              importance_type='gain', interaction_constraints='',\n",
       "              learning_rate=0.3, max_delta_step=0, max_depth=4,\n",
       "              min_child_weight=5, missing=nan, monotone_constraints='()',\n",
       "              n_estimators=100, n_jobs=0, num_parallel_tree=1,\n",
       "              objective='binary:logistic', random_state=0, reg_alpha=0,\n",
       "              reg_lambda=1, scale_pos_weight=2.7, subsample=1,\n",
       "              tree_method='exact', validate_parameters=1, verbosity=None)"
      ]
     },
     "execution_count": 82,
     "metadata": {},
     "output_type": "execute_result"
    }
   ],
   "source": [
    "random_search.best_estimator_"
   ]
  },
  {
   "cell_type": "code",
   "execution_count": 143,
   "metadata": {},
   "outputs": [],
   "source": [
    "bestXGBoost=XGBClassifier(base_score=0.5, booster='gbtree', colsample_bylevel=1,\n",
    "              colsample_bynode=1, colsample_bytree=0.4, gamma=0.4, gpu_id=-1,\n",
    "              importance_type='gain', interaction_constraints='',\n",
    "              learning_rate=0.3, max_delta_step=0, max_depth=4,\n",
    "              min_child_weight=5, missing=np.nan, monotone_constraints='()',\n",
    "              n_estimators=100, n_jobs=0, num_parallel_tree=1,\n",
    "              objective='binary:logistic', random_state=0, reg_alpha=0,\n",
    "              reg_lambda=1, scale_pos_weight=2.7, subsample=1,\n",
    "              tree_method='exact', validate_parameters=1, verbosity=None)"
   ]
  },
  {
   "cell_type": "code",
   "execution_count": 144,
   "metadata": {},
   "outputs": [
    {
     "data": {
      "text/plain": [
       "XGBClassifier(base_score=0.5, booster='gbtree', colsample_bylevel=1,\n",
       "              colsample_bynode=1, colsample_bytree=0.4, gamma=0.4, gpu_id=-1,\n",
       "              importance_type='gain', interaction_constraints='',\n",
       "              learning_rate=0.3, max_delta_step=0, max_depth=4,\n",
       "              min_child_weight=5, missing=nan, monotone_constraints='()',\n",
       "              n_estimators=100, n_jobs=0, num_parallel_tree=1,\n",
       "              objective='binary:logistic', random_state=0, reg_alpha=0,\n",
       "              reg_lambda=1, scale_pos_weight=2.7, subsample=1,\n",
       "              tree_method='exact', validate_parameters=1, verbosity=None)"
      ]
     },
     "execution_count": 144,
     "metadata": {},
     "output_type": "execute_result"
    }
   ],
   "source": [
    "bestXGBoost.fit(X_train, y_train)"
   ]
  },
  {
   "cell_type": "code",
   "execution_count": 145,
   "metadata": {},
   "outputs": [],
   "source": [
    "y_pred = bestXGBoost.predict(X_test)"
   ]
  },
  {
   "cell_type": "code",
   "execution_count": 146,
   "metadata": {},
   "outputs": [
    {
     "data": {
      "text/plain": [
       "0.6600788349939779"
      ]
     },
     "execution_count": 146,
     "metadata": {},
     "output_type": "execute_result"
    }
   ],
   "source": [
    "metrics.accuracy_score(y_test,y_pred)"
   ]
  },
  {
   "cell_type": "code",
   "execution_count": 147,
   "metadata": {},
   "outputs": [
    {
     "data": {
      "text/plain": [
       "0.606577113166899"
      ]
     },
     "execution_count": 147,
     "metadata": {},
     "output_type": "execute_result"
    }
   ],
   "source": [
    "metrics.f1_score(y_test,y_pred)"
   ]
  },
  {
   "cell_type": "code",
   "execution_count": 148,
   "metadata": {},
   "outputs": [],
   "source": [
    "xgb_cm=metrics.confusion_matrix(y_test,y_pred,labels=[1,0])"
   ]
  },
  {
   "cell_type": "code",
   "execution_count": 149,
   "metadata": {},
   "outputs": [
    {
     "name": "stdout",
     "output_type": "stream",
     "text": [
      "              precision    recall  f1-score   support\n",
      "\n",
      "           0       0.89      0.58      0.70     25213\n",
      "           1       0.47      0.85      0.61     11319\n",
      "\n",
      "    accuracy                           0.66     36532\n",
      "   macro avg       0.68      0.71      0.65     36532\n",
      "weighted avg       0.76      0.66      0.67     36532\n",
      "\n"
     ]
    }
   ],
   "source": [
    "print(metrics.classification_report(y_test,y_pred))"
   ]
  },
  {
   "cell_type": "code",
   "execution_count": 150,
   "metadata": {},
   "outputs": [
    {
     "data": {
      "image/png": "[encoded data removed]",
      "text/plain": [
       "<Figure size 648x432 with 2 Axes>"
      ]
     },
     "metadata": {},
     "output_type": "display_data"
    }
   ],
   "source": [
    "plot_confusion_matrix(xgb_cm,[1,0])"
   ]
  },
  {
   "cell_type": "code",
   "execution_count": 151,
   "metadata": {},
   "outputs": [],
   "source": [
    "# xg boos without weights\n",
    "bestXGBoost=XGBClassifier(base_score=0.5, booster='gbtree', colsample_bylevel=1,\n",
    "              colsample_bynode=1, colsample_bytree=0.4, gamma=0.4, gpu_id=-1,\n",
    "              importance_type='gain', interaction_constraints='',\n",
    "              learning_rate=0.3, max_delta_step=0, max_depth=4,\n",
    "              min_child_weight=5, missing=np.nan, monotone_constraints='()',\n",
    "              n_estimators=100, n_jobs=0, num_parallel_tree=1,\n",
    "              objective='binary:logistic', random_state=0, reg_alpha=0,\n",
    "              reg_lambda=1, scale_pos_weight=1, subsample=1,\n",
    "              tree_method='exact', validate_parameters=1, verbosity=None)"
   ]
  },
  {
   "cell_type": "code",
   "execution_count": 152,
   "metadata": {},
   "outputs": [
    {
     "data": {
      "text/plain": [
       "0.7512044235191065"
      ]
     },
     "execution_count": 152,
     "metadata": {},
     "output_type": "execute_result"
    }
   ],
   "source": [
    "bestXGBoost.fit(X_train, y_train)\n",
    "y_pred = bestXGBoost.predict(X_test)\n",
    "metrics.accuracy_score(y_test,y_pred)"
   ]
  },
  {
   "cell_type": "code",
   "execution_count": 153,
   "metadata": {},
   "outputs": [
    {
     "data": {
      "text/plain": [
       "0.4495851753164174"
      ]
     },
     "execution_count": 153,
     "metadata": {},
     "output_type": "execute_result"
    }
   ],
   "source": [
    "metrics.f1_score(y_test,y_pred)"
   ]
  },
  {
   "cell_type": "code",
   "execution_count": 154,
   "metadata": {},
   "outputs": [],
   "source": [
    "xgb_without_weight_cm=metrics.confusion_matrix(y_test,y_pred,labels=[1,0])"
   ]
  },
  {
   "cell_type": "code",
   "execution_count": 155,
   "metadata": {},
   "outputs": [
    {
     "name": "stdout",
     "output_type": "stream",
     "text": [
      "              precision    recall  f1-score   support\n",
      "\n",
      "           0       0.76      0.94      0.84     25213\n",
      "           1       0.71      0.33      0.45     11319\n",
      "\n",
      "    accuracy                           0.75     36532\n",
      "   macro avg       0.74      0.63      0.64     36532\n",
      "weighted avg       0.74      0.75      0.72     36532\n",
      "\n"
     ]
    }
   ],
   "source": [
    "print(metrics.classification_report(y_test,y_pred))"
   ]
  },
  {
   "cell_type": "code",
   "execution_count": 156,
   "metadata": {},
   "outputs": [
    {
     "data": {
      "image/png": "[encoded data removed]",
      "text/plain": [
       "<Figure size 648x432 with 2 Axes>"
      ]
     },
     "metadata": {},
     "output_type": "display_data"
    }
   ],
   "source": [
    "plot_confusion_matrix(xgb_without_weight_cm,[1,0])"
   ]
  },
  {
   "cell_type": "markdown",
   "metadata": {},
   "source": [
    "### wow the f1_score has jumped soooo much using the weight parameter\n",
    "### also now predicting severe accidents is much better, which is actually important.\n",
    "### our goal is to maximise the prediction for accident with severity dangerous(2). Xgboost is giving it around 84%"
   ]
  },
  {
   "cell_type": "code",
   "execution_count": null,
   "metadata": {},
   "outputs": [],
   "source": []
  }
 ],
 "metadata": {
  "kernelspec": {
   "display_name": "Python 3",
   "language": "python",
   "name": "python3"
  },
  "language_info": {
   "codemirror_mode": {
    "name": "ipython",
    "version": 3
   },
   "file_extension": ".py",
   "mimetype": "text/x-python",
   "name": "python",
   "nbconvert_exporter": "python",
   "pygments_lexer": "ipython3",
   "version": "3.6.8"
  }
 },
 "nbformat": 4,
 "nbformat_minor": 2
}
